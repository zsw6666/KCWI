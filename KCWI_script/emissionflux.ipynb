{
 "cells": [
  {
   "cell_type": "code",
   "execution_count": 1,
   "metadata": {},
   "outputs": [],
   "source": [
    "import numpy as np\n",
    "import matplotlib.pyplot as plt\n",
    "from astropy import units as u\n",
    "from astropy import constants as const"
   ]
  },
  {
   "cell_type": "code",
   "execution_count": 2,
   "metadata": {
    "scrolled": true
   },
   "outputs": [
    {
     "name": "stderr",
     "output_type": "stream",
     "text": [
      "WARNING: AstropyDeprecationWarning: astropy.extern.six will be removed in 4.0, use the six module directly if it is still needed [astropy.extern.six]\n",
      "WARNING: VerifyWarning: Invalid 'BLANK' keyword in header.  The 'BLANK' keyword is only applicable to integer data, and will be ignored in this HDU. [astropy.io.fits.hdu.image]\n",
      "WARNING: Could not parse unit FLAM16 [spectral_cube.cube_utils]\n",
      "WARNING: VerifyWarning: Invalid 'BLANK' keyword in header.  The 'BLANK' keyword is only applicable to integer data, and will be ignored in this HDU. [astropy.io.fits.hdu.image]\n",
      "WARNING: Could not parse unit FLAM16 [spectral_cube.cube_utils]\n",
      "WARNING: VerifyWarning: Invalid 'BLANK' keyword in header.  The 'BLANK' keyword is only applicable to integer data, and will be ignored in this HDU. [astropy.io.fits.hdu.image]\n",
      "WARNING: Could not parse unit FLAM16 [spectral_cube.cube_utils]\n",
      "WARNING: PossiblySlowWarning: This function (<function BaseSpectralCube.mean at 0x116546268>) requires loading the entire cube into memory and may therefore be slow. [spectral_cube.utils]\n",
      "WARNING: PossiblySlowWarning: This function (<function BaseSpectralCube.mean at 0x116546268>) requires loading the entire cube into memory and may therefore be slow. [spectral_cube.utils]\n",
      "WARNING: PossiblySlowWarning: This function (<function BaseSpectralCube.mean at 0x116546268>) requires loading the entire cube into memory and may therefore be slow. [spectral_cube.utils]\n",
      "WARNING: ExperimentalImplementationWarning: Support for air wavelengths is experimental and only works in the forward direction (air->vac, not vac->air). [spectral_cube.spectral_axis]\n",
      "/usr/local/lib/python3.7/site-packages/spectral_cube/_moments.py:169: RuntimeWarning: invalid value encountered in true_divide\n",
      "  np.nansum(data, axis=axis))\n",
      "WARNING: PossiblySlowWarning: This function (<function BaseSpectralCube.mean at 0x116546268>) requires loading the entire cube into memory and may therefore be slow. [spectral_cube.utils]\n",
      "WARNING: ExperimentalImplementationWarning: Support for air wavelengths is experimental and only works in the forward direction (air->vac, not vac->air). [spectral_cube.spectral_axis]\n",
      "WARNING: VarianceWarning: Note that the second moment returned will be a variance map. To get a linewidth map, use the SpectralCube.linewidth_fwhm() or SpectralCube.linewidth_sigma() methods instead. [spectral_cube.spectral_cube]\n",
      "/usr/local/lib/python3.7/site-packages/spectral_cube/_moments.py:169: RuntimeWarning: invalid value encountered in true_divide\n",
      "  np.nansum(data, axis=axis))\n",
      "/usr/local/lib/python3.7/site-packages/spectral_cube/_moments.py:179: RuntimeWarning: invalid value encountered in true_divide\n",
      "  np.nansum(data, axis=axis))\n",
      "/usr/local/lib/python3.7/site-packages/astropy/units/quantity.py:464: RuntimeWarning: invalid value encountered in power\n",
      "  result = super().__array_ufunc__(function, method, *arrays, **kwargs)\n",
      "WARNING: PossiblySlowWarning: This function (<function BaseSpectralCube.mean at 0x116546268>) requires loading the entire cube into memory and may therefore be slow. [spectral_cube.utils]\n",
      "WARNING: PossiblySlowWarning: This function (<function BaseSpectralCube.mean at 0x116546268>) requires loading the entire cube into memory and may therefore be slow. [spectral_cube.utils]\n",
      "WARNING: PossiblySlowWarning: This function (<function BaseSpectralCube.mean at 0x116546268>) requires loading the entire cube into memory and may therefore be slow. [spectral_cube.utils]\n",
      "WARNING: ExperimentalImplementationWarning: Support for air wavelengths is experimental and only works in the forward direction (air->vac, not vac->air). [spectral_cube.spectral_axis]\n",
      "/usr/local/lib/python3.7/site-packages/spectral_cube/_moments.py:169: RuntimeWarning: invalid value encountered in true_divide\n",
      "  np.nansum(data, axis=axis))\n",
      "WARNING: PossiblySlowWarning: This function (<function BaseSpectralCube.mean at 0x116546268>) requires loading the entire cube into memory and may therefore be slow. [spectral_cube.utils]\n",
      "WARNING: ExperimentalImplementationWarning: Support for air wavelengths is experimental and only works in the forward direction (air->vac, not vac->air). [spectral_cube.spectral_axis]\n",
      "WARNING: VarianceWarning: Note that the second moment returned will be a variance map. To get a linewidth map, use the SpectralCube.linewidth_fwhm() or SpectralCube.linewidth_sigma() methods instead. [spectral_cube.spectral_cube]\n",
      "/usr/local/lib/python3.7/site-packages/spectral_cube/_moments.py:169: RuntimeWarning: invalid value encountered in true_divide\n",
      "  np.nansum(data, axis=axis))\n",
      "/usr/local/lib/python3.7/site-packages/spectral_cube/_moments.py:179: RuntimeWarning: invalid value encountered in true_divide\n",
      "  np.nansum(data, axis=axis))\n",
      "/usr/local/lib/python3.7/site-packages/astropy/units/quantity.py:464: RuntimeWarning: invalid value encountered in power\n",
      "  result = super().__array_ufunc__(function, method, *arrays, **kwargs)\n",
      "WARNING: PossiblySlowWarning: This function (<function BaseSpectralCube.mean at 0x116546268>) requires loading the entire cube into memory and may therefore be slow. [spectral_cube.utils]\n",
      "WARNING: PossiblySlowWarning: This function (<function BaseSpectralCube.mean at 0x116546268>) requires loading the entire cube into memory and may therefore be slow. [spectral_cube.utils]\n",
      "WARNING: PossiblySlowWarning: This function (<function BaseSpectralCube.mean at 0x116546268>) requires loading the entire cube into memory and may therefore be slow. [spectral_cube.utils]\n",
      "WARNING: ExperimentalImplementationWarning: Support for air wavelengths is experimental and only works in the forward direction (air->vac, not vac->air). [spectral_cube.spectral_axis]\n",
      "/usr/local/lib/python3.7/site-packages/spectral_cube/_moments.py:169: RuntimeWarning: invalid value encountered in true_divide\n",
      "  np.nansum(data, axis=axis))\n",
      "WARNING: PossiblySlowWarning: This function (<function BaseSpectralCube.mean at 0x116546268>) requires loading the entire cube into memory and may therefore be slow. [spectral_cube.utils]\n",
      "WARNING: ExperimentalImplementationWarning: Support for air wavelengths is experimental and only works in the forward direction (air->vac, not vac->air). [spectral_cube.spectral_axis]\n",
      "WARNING: VarianceWarning: Note that the second moment returned will be a variance map. To get a linewidth map, use the SpectralCube.linewidth_fwhm() or SpectralCube.linewidth_sigma() methods instead. [spectral_cube.spectral_cube]\n",
      "/usr/local/lib/python3.7/site-packages/spectral_cube/_moments.py:169: RuntimeWarning: invalid value encountered in true_divide\n",
      "  np.nansum(data, axis=axis))\n",
      "/usr/local/lib/python3.7/site-packages/spectral_cube/_moments.py:179: RuntimeWarning: invalid value encountered in true_divide\n",
      "  np.nansum(data, axis=axis))\n",
      "/usr/local/lib/python3.7/site-packages/astropy/units/quantity.py:464: RuntimeWarning: invalid value encountered in power\n",
      "  result = super().__array_ufunc__(function, method, *arrays, **kwargs)\n"
     ]
    }
   ],
   "source": [
    "from Map import lyoptimalcube,lysnrmap,lyemissioncube,\\\n",
    "    heiioptimalcube,heiisnrmap,heiiemissioncube,\\\n",
    "    civoptimalcube,civsnrmap,civemissioncube"
   ]
  },
  {
   "cell_type": "code",
   "execution_count": 15,
   "metadata": {},
   "outputs": [
    {
     "name": "stderr",
     "output_type": "stream",
     "text": [
      "WARNING: PossiblySlowWarning: This function (<function BaseSpectralCube._apply_everywhere at 0x116546f28>) requires loading the entire cube into memory and may therefore be slow. [spectral_cube.utils]\n",
      "WARNING: PossiblySlowWarning: This function (<function BaseSpectralCube._apply_everywhere at 0x116546f28>) requires loading the entire cube into memory and may therefore be slow. [spectral_cube.utils]\n",
      "WARNING: PossiblySlowWarning: This function (<function BaseSpectralCube._apply_everywhere at 0x116546f28>) requires loading the entire cube into memory and may therefore be slow. [spectral_cube.utils]\n"
     ]
    }
   ],
   "source": [
    "flux_unit=u.erg/(u.s*np.power(u.cm,2)*u.AA)\n",
    "lyemissionmap=(lyemissioncube*1e-16).hdu.data.sum(axis=0)*flux_unit\n",
    "heiiemissionmap=(heiiemissioncube*1e-16).hdu.data.sum(axis=0)*flux_unit\n",
    "civemissionmap=(civemissioncube*1e-16).hdu.data.sum(axis=0)*flux_unit\n",
    "\n",
    "ly_delta_w=lyemissioncube.spectral_axis.diff().mean()\n",
    "heii_delta_w=heiiemissioncube.spectral_axis.diff().mean()\n",
    "civ_delta_w=civemissioncube.spectral_axis.diff().mean()\n",
    "\n",
    "D=18528.4*u.Mpc\n",
    "ly_bool=(lysnrmap<3)&(lyemissionmap<0)\n",
    "heii_bool=(heiisnrmap<3)&(heiiemissionmap<0)\n",
    "civ_bool=(civsnrmap<3)&(civemissionmap<0)\n",
    "lyemissionmap[ly_bool]=0\n",
    "heiiemissionmap[heii_bool]=0\n",
    "civemissionmap[civ_bool]=0"
   ]
  },
  {
   "cell_type": "code",
   "execution_count": 20,
   "metadata": {},
   "outputs": [],
   "source": [
    "ly_L=(lyemissionmap.sum()*ly_delta_w*4*np.pi*np.power(D,2)).to(u.erg/u.s)\n",
    "heii_L=(heiiemissionmap.sum()*ly_delta_w*4*np.pi*np.power(D,2)).to(u.erg/u.s)\n",
    "civ_L=(civemissionmap.sum()*ly_delta_w*4*np.pi*np.power(D,2)).to(u.erg/u.s)"
   ]
  },
  {
   "cell_type": "code",
   "execution_count": 21,
   "metadata": {},
   "outputs": [
    {
     "name": "stdout",
     "output_type": "stream",
     "text": [
      "2.6799371450420437e+44 erg / s\n",
      "1.972087923451054e+43 erg / s\n",
      "2.2918035853435196e+43 erg / s\n"
     ]
    }
   ],
   "source": [
    "print(ly_L)\n",
    "print(heii_L)\n",
    "print(civ_L)"
   ]
  }
 ],
 "metadata": {
  "kernelspec": {
   "display_name": "Python 3",
   "language": "python",
   "name": "python3"
  },
  "language_info": {
   "codemirror_mode": {
    "name": "ipython",
    "version": 3
   },
   "file_extension": ".py",
   "mimetype": "text/x-python",
   "name": "python",
   "nbconvert_exporter": "python",
   "pygments_lexer": "ipython3",
   "version": "3.7.0"
  }
 },
 "nbformat": 4,
 "nbformat_minor": 2
}
