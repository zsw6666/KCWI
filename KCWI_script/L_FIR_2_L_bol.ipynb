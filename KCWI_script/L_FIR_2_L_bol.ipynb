{
 "cells": [
  {
   "cell_type": "code",
   "execution_count": 1,
   "metadata": {},
   "outputs": [],
   "source": [
    "import numpy as np\n",
    "import astropy.units as u\n",
    "import astropy.constants as const"
   ]
  },
  {
   "cell_type": "code",
   "execution_count": 2,
   "metadata": {},
   "outputs": [],
   "source": [
    "wavelength_70,flux_70=231.0129700083158*u.um,19.054607179632413*u.mJy\n",
    "wavelength_90,flux_90=302.35661912054707*u.um,17.37800828749371*u.mJy\n",
    "\n",
    "freq_70=(const.c/wavelength_70).to(u.Hz)\n",
    "freq_90=(const.c/wavelength_90).to(u.Hz)\n",
    "\n",
    "D=18528.4*u.Mpc\n",
    "area=4*np.pi*D**2\n",
    "\n",
    "L_70=(freq_70*flux_70*area).to(u.erg/u.s)\n",
    "L_90=(freq_90*flux_90*area).to(u.erg/u.s)"
   ]
  },
  {
   "cell_type": "code",
   "execution_count": 3,
   "metadata": {},
   "outputs": [
    {
     "name": "stdout",
     "output_type": "stream",
     "text": [
      "1.0157132773512695e+46 erg / s\n",
      "7.077632567838047e+45 erg / s\n"
     ]
    }
   ],
   "source": [
    "print(L_70)\n",
    "print(L_90)"
   ]
  },
  {
   "cell_type": "code",
   "execution_count": 4,
   "metadata": {},
   "outputs": [
    {
     "name": "stdout",
     "output_type": "stream",
     "text": [
      "2.6686558396110992e+47\n",
      "1.3534169014141238e+47\n",
      "2.0110363705126115e+47\n"
     ]
    }
   ],
   "source": [
    "L_bol_log_70=(np.log10(L_70.value/1e43)+0.49)/0.79\n",
    "L_bol_log_90=(np.log10(L_90.value/1e43)+0.29)/0.76\n",
    "\n",
    "L_bol_70=(10**L_bol_log_70)*1e43\n",
    "L_bol_90=(10**L_bol_log_90)*1e43\n",
    "\n",
    "L_bol=.5*(L_bol_70+L_bol_90)\n",
    "\n",
    "print(L_bol_70)\n",
    "print(L_bol_90)\n",
    "print(L_bol)"
   ]
  },
  {
   "cell_type": "markdown",
   "metadata": {},
   "source": [
    "$\\rm L_{M}=4 f_{g} c \\sigma^{4} / G$"
   ]
  },
  {
   "cell_type": "code",
   "execution_count": 10,
   "metadata": {},
   "outputs": [
    {
     "data": {
      "text/latex": [
       "$3.6065915 \\times 10^{47} \\; \\mathrm{\\frac{erg}{s}}$"
      ],
      "text/plain": [
       "<Quantity 3.60659154e+47 erg / s>"
      ]
     },
     "execution_count": 10,
     "metadata": {},
     "output_type": "execute_result"
    }
   ],
   "source": [
    "# assume the gas fraction to br 0.193 and sigma to be 320.67469476529214 km/s\n",
    "\n",
    "L_m=4*0.19*const.c*((320.6*u.km/u.s)**4)/const.G\n",
    "L_m=L_m.to(u.erg/u.s)\n",
    "L_m"
   ]
  },
  {
   "cell_type": "code",
   "execution_count": 15,
   "metadata": {},
   "outputs": [
    {
     "data": {
      "text/latex": [
       "$97779222 \\; \\mathrm{yr}$"
      ],
      "text/plain": [
       "<Quantity 97779222.16731285 yr>"
      ]
     },
     "execution_count": 15,
     "metadata": {},
     "output_type": "execute_result"
    }
   ],
   "source": [
    "d=100*u.kpc\n",
    "v=1000*u.km/u.s\n",
    "t=d/v\n",
    "t.to(u.yr)"
   ]
  },
  {
   "cell_type": "code",
   "execution_count": 16,
   "metadata": {},
   "outputs": [
    {
     "name": "stdout",
     "output_type": "stream",
     "text": [
      "0.1 kpc s / km\n"
     ]
    },
    {
     "data": {
      "text/latex": [
       "$9.7507412 \\times 10^{60} \\; \\mathrm{erg}$"
      ],
      "text/plain": [
       "<Quantity 9.75074116e+60 erg>"
      ]
     },
     "execution_count": 16,
     "metadata": {},
     "output_type": "execute_result"
    }
   ],
   "source": [
    "rate=3.16e45*u.erg/u.s\n",
    "\n",
    "E=t*rate\n",
    "print(t)\n",
    "E.to(u.erg)"
   ]
  }
 ],
 "metadata": {
  "kernelspec": {
   "display_name": "Python 3",
   "language": "python",
   "name": "python3"
  },
  "language_info": {
   "codemirror_mode": {
    "name": "ipython",
    "version": 3
   },
   "file_extension": ".py",
   "mimetype": "text/x-python",
   "name": "python",
   "nbconvert_exporter": "python",
   "pygments_lexer": "ipython3",
   "version": "3.7.0"
  }
 },
 "nbformat": 4,
 "nbformat_minor": 2
}
