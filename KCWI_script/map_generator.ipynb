{
 "cells": [
  {
   "cell_type": "markdown",
   "metadata": {},
   "source": [
    "### This notebook import everything in Map.py and do some preprocess for these maps(interpolate and smooth it). It write the new maps to .txt for plot after the preprocess."
   ]
  },
  {
   "cell_type": "code",
   "execution_count": 1,
   "metadata": {},
   "outputs": [
    {
     "name": "stderr",
     "output_type": "stream",
     "text": [
      "WARNING: AstropyDeprecationWarning: astropy.extern.six will be removed in 4.0, use the six module directly if it is still needed [astropy.extern.six]\n"
     ]
    }
   ],
   "source": [
    "from astropy import units as u\n",
    "from astropy import constants as const\n",
    "from Class_func import Img_interpsmooth\n",
    "import numpy as np\n",
    "import matplotlib.pyplot as plt"
   ]
  },
  {
   "cell_type": "markdown",
   "metadata": {},
   "source": [
    "#### Import "
   ]
  },
  {
   "cell_type": "code",
   "execution_count": 2,
   "metadata": {},
   "outputs": [
    {
     "name": "stderr",
     "output_type": "stream",
     "text": [
      "WARNING: VerifyWarning: Invalid 'BLANK' keyword in header.  The 'BLANK' keyword is only applicable to integer data, and will be ignored in this HDU. [astropy.io.fits.hdu.image]\n",
      "WARNING: Could not parse unit FLAM16 [spectral_cube.cube_utils]\n",
      "WARNING: VerifyWarning: Invalid 'BLANK' keyword in header.  The 'BLANK' keyword is only applicable to integer data, and will be ignored in this HDU. [astropy.io.fits.hdu.image]\n",
      "WARNING: Could not parse unit FLAM16 [spectral_cube.cube_utils]\n",
      "WARNING: VerifyWarning: Invalid 'BLANK' keyword in header.  The 'BLANK' keyword is only applicable to integer data, and will be ignored in this HDU. [astropy.io.fits.hdu.image]\n",
      "WARNING: Could not parse unit FLAM16 [spectral_cube.cube_utils]\n",
      "WARNING: PossiblySlowWarning: This function (<function BaseSpectralCube.mean at 0x12564e048>) requires loading the entire cube into memory and may therefore be slow. [spectral_cube.utils]\n",
      "WARNING: PossiblySlowWarning: This function (<function BaseSpectralCube.mean at 0x12564e048>) requires loading the entire cube into memory and may therefore be slow. [spectral_cube.utils]\n",
      "WARNING: PossiblySlowWarning: This function (<function BaseSpectralCube.mean at 0x12564e048>) requires loading the entire cube into memory and may therefore be slow. [spectral_cube.utils]\n",
      "WARNING: ExperimentalImplementationWarning: Support for air wavelengths is experimental and only works in the forward direction (air->vac, not vac->air). [spectral_cube.spectral_axis]\n",
      "/usr/local/lib/python3.7/site-packages/spectral_cube/_moments.py:169: RuntimeWarning: invalid value encountered in true_divide\n",
      "  np.nansum(data, axis=axis))\n",
      "WARNING: PossiblySlowWarning: This function (<function BaseSpectralCube.mean at 0x12564e048>) requires loading the entire cube into memory and may therefore be slow. [spectral_cube.utils]\n",
      "WARNING: ExperimentalImplementationWarning: Support for air wavelengths is experimental and only works in the forward direction (air->vac, not vac->air). [spectral_cube.spectral_axis]\n",
      "WARNING: VarianceWarning: Note that the second moment returned will be a variance map. To get a linewidth map, use the SpectralCube.linewidth_fwhm() or SpectralCube.linewidth_sigma() methods instead. [spectral_cube.spectral_cube]\n",
      "/usr/local/lib/python3.7/site-packages/spectral_cube/_moments.py:169: RuntimeWarning: invalid value encountered in true_divide\n",
      "  np.nansum(data, axis=axis))\n",
      "/usr/local/lib/python3.7/site-packages/spectral_cube/_moments.py:179: RuntimeWarning: invalid value encountered in true_divide\n",
      "  np.nansum(data, axis=axis))\n",
      "WARNING: PossiblySlowWarning: This function (<function BaseSpectralCube.mean at 0x12564e048>) requires loading the entire cube into memory and may therefore be slow. [spectral_cube.utils]\n",
      "WARNING: PossiblySlowWarning: This function (<function BaseSpectralCube.mean at 0x12564e048>) requires loading the entire cube into memory and may therefore be slow. [spectral_cube.utils]\n",
      "WARNING: PossiblySlowWarning: This function (<function BaseSpectralCube.mean at 0x12564e048>) requires loading the entire cube into memory and may therefore be slow. [spectral_cube.utils]\n",
      "WARNING: ExperimentalImplementationWarning: Support for air wavelengths is experimental and only works in the forward direction (air->vac, not vac->air). [spectral_cube.spectral_axis]\n",
      "/usr/local/lib/python3.7/site-packages/spectral_cube/_moments.py:169: RuntimeWarning: invalid value encountered in true_divide\n",
      "  np.nansum(data, axis=axis))\n",
      "WARNING: PossiblySlowWarning: This function (<function BaseSpectralCube.mean at 0x12564e048>) requires loading the entire cube into memory and may therefore be slow. [spectral_cube.utils]\n",
      "WARNING: ExperimentalImplementationWarning: Support for air wavelengths is experimental and only works in the forward direction (air->vac, not vac->air). [spectral_cube.spectral_axis]\n",
      "WARNING: VarianceWarning: Note that the second moment returned will be a variance map. To get a linewidth map, use the SpectralCube.linewidth_fwhm() or SpectralCube.linewidth_sigma() methods instead. [spectral_cube.spectral_cube]\n",
      "/usr/local/lib/python3.7/site-packages/spectral_cube/_moments.py:169: RuntimeWarning: invalid value encountered in true_divide\n",
      "  np.nansum(data, axis=axis))\n",
      "/usr/local/lib/python3.7/site-packages/spectral_cube/_moments.py:179: RuntimeWarning: invalid value encountered in true_divide\n",
      "  np.nansum(data, axis=axis))\n",
      "/usr/local/lib/python3.7/site-packages/astropy/units/quantity.py:464: RuntimeWarning: invalid value encountered in power\n",
      "  result = super().__array_ufunc__(function, method, *arrays, **kwargs)\n",
      "WARNING: PossiblySlowWarning: This function (<function BaseSpectralCube.mean at 0x12564e048>) requires loading the entire cube into memory and may therefore be slow. [spectral_cube.utils]\n",
      "WARNING: PossiblySlowWarning: This function (<function BaseSpectralCube.mean at 0x12564e048>) requires loading the entire cube into memory and may therefore be slow. [spectral_cube.utils]\n",
      "WARNING: PossiblySlowWarning: This function (<function BaseSpectralCube.mean at 0x12564e048>) requires loading the entire cube into memory and may therefore be slow. [spectral_cube.utils]\n",
      "WARNING: ExperimentalImplementationWarning: Support for air wavelengths is experimental and only works in the forward direction (air->vac, not vac->air). [spectral_cube.spectral_axis]\n",
      "/usr/local/lib/python3.7/site-packages/spectral_cube/_moments.py:169: RuntimeWarning: invalid value encountered in true_divide\n",
      "  np.nansum(data, axis=axis))\n",
      "WARNING: PossiblySlowWarning: This function (<function BaseSpectralCube.mean at 0x12564e048>) requires loading the entire cube into memory and may therefore be slow. [spectral_cube.utils]\n",
      "WARNING: ExperimentalImplementationWarning: Support for air wavelengths is experimental and only works in the forward direction (air->vac, not vac->air). [spectral_cube.spectral_axis]\n",
      "WARNING: VarianceWarning: Note that the second moment returned will be a variance map. To get a linewidth map, use the SpectralCube.linewidth_fwhm() or SpectralCube.linewidth_sigma() methods instead. [spectral_cube.spectral_cube]\n",
      "/usr/local/lib/python3.7/site-packages/spectral_cube/_moments.py:169: RuntimeWarning: invalid value encountered in true_divide\n",
      "  np.nansum(data, axis=axis))\n",
      "/usr/local/lib/python3.7/site-packages/spectral_cube/_moments.py:179: RuntimeWarning: invalid value encountered in true_divide\n",
      "  np.nansum(data, axis=axis))\n",
      "/usr/local/lib/python3.7/site-packages/astropy/units/quantity.py:464: RuntimeWarning: invalid value encountered in power\n",
      "  result = super().__array_ufunc__(function, method, *arrays, **kwargs)\n"
     ]
    }
   ],
   "source": [
    "from Map import lyoptimalcube,lysnrmap,lyvelocitymap,lydispersionmap,lyemissioncube,\\\n",
    "    heiioptimalcube,heiisnrmap,heiivelocitymap,heiidispersionmap,\\\n",
    "    civoptimalcube,civsnrmap,civvelocitymap,civdispersionmap"
   ]
  },
  {
   "cell_type": "code",
   "execution_count": 3,
   "metadata": {},
   "outputs": [],
   "source": [
    "def preprocess(optimalcube,velocitymap,dispersionmap,snrmap,noise_level=3):\n",
    "    '''\n",
    "    before plot the image, do\n",
    "    preprocess to image, optimalcube\n",
    "    should be an optimalcube with optimal\n",
    "    image\n",
    "    '''\n",
    "    velocitymap[np.isnan(velocitymap)]=0\n",
    "    dispersionmap[np.isnan(dispersionmap)]=0\n",
    "\n",
    "\n",
    "    optimalimg_inter,x_inter,y_inter=Img_interpsmooth(optimalcube.optimal_img,\n",
    "                                                     optimalcube.ra.to(u.arcsec).value,\n",
    "                                                     optimalcube.dec.to(u.arcsec).value,[5,9])\n",
    "    snrmap_inter,_,_=Img_interpsmooth(snrmap,\n",
    "                                     optimalcube.ra.to(u.arcsec).value,\n",
    "                                     optimalcube.dec.to(u.arcsec).value,[5,9])\n",
    "\n",
    "    velocitymap_inter,_,_=Img_interpsmooth(velocitymap,\n",
    "                                          optimalcube.ra.to(u.arcsec).value,\n",
    "                                          optimalcube.dec.to(u.arcsec).value,[5,9])\n",
    "\n",
    "    dispersionmap_inter,_,_=Img_interpsmooth(dispersionmap,\n",
    "                                            optimalcube.ra.to(u.arcsec).value,\n",
    "                                            optimalcube.dec.to(u.arcsec).value,[5,9])\n",
    "    \n",
    "\n",
    "    optimalimg_inter[snrmap_inter<noise_level]=999\n",
    "    velocitymap_inter[snrmap_inter<noise_level]=np.nan\n",
    "    dispersionmap_inter[snrmap_inter<noise_level]=np.nan\n",
    "    \n",
    "\n",
    "    \n",
    "    return optimalimg_inter,velocitymap_inter,\\\n",
    "           dispersionmap_inter,snrmap_inter,x_inter,y_inter"
   ]
  },
  {
   "cell_type": "code",
   "execution_count": 4,
   "metadata": {},
   "outputs": [],
   "source": [
    "optimalimg,velocitymap,dispersionmap,snrmap,x,y=preprocess(lyoptimalcube,lyvelocitymap,\n",
    "                                                          lydispersionmap,lysnrmap,3.)\n",
    "\n",
    "optimalimg[optimalimg==999]=0\n",
    "optimalimg=optimalimg*1e3\n",
    "noise=np.random.normal(0,.5,optimalimg.shape)\n",
    "optimalimg+=noise\n",
    "\n",
    "dirc='/Users/shiwuzhang/WS/ASTRO/MAMMOTH_KCWI/analysis results/newresults/ly/'\n",
    "np.savetxt(dirc+'lyimg.out',optimalimg,delimiter=',')\n",
    "np.savetxt(dirc+'lyvelo.out',velocitymap,delimiter=',')\n",
    "np.savetxt(dirc+'lysnr.out',snrmap,delimiter=',')\n",
    "np.savetxt(dirc+'lydisp.out',dispersionmap,delimiter=',')\n",
    "np.savetxt(dirc+'lyx',x,delimiter=',')\n",
    "np.savetxt(dirc+'lyy',y,delimiter=',')"
   ]
  },
  {
   "cell_type": "code",
   "execution_count": 5,
   "metadata": {},
   "outputs": [],
   "source": [
    "optimalimg,velocitymap,dispersionmap,snrmap,x,y=preprocess(heiioptimalcube,heiivelocitymap,\n",
    "                                                          heiidispersionmap,heiisnrmap,noise_level=3.)\n",
    "\n",
    "\n",
    "optimalimg[optimalimg==999]=np.power(10,-2.8)\n",
    "optimalimg=optimalimg*1e3\n",
    "noise=np.random.normal(0,.01,optimalimg.shape)\n",
    "optimalimg+=noise\n",
    "\n",
    "dirc='/Users/shiwuzhang/WS/ASTRO/MAMMOTH_KCWI/analysis results/newresults/heii/'\n",
    "np.savetxt(dirc+'heiiimg.out',optimalimg,delimiter=',')\n",
    "np.savetxt(dirc+'heiivelo.out',velocitymap,delimiter=',')\n",
    "np.savetxt(dirc+'heiisnr.out',snrmap,delimiter=',')\n",
    "np.savetxt(dirc+'heiidisp.out',dispersionmap,delimiter=',')\n",
    "np.savetxt(dirc+'heiix',x,delimiter=',')\n",
    "np.savetxt(dirc+'heiiy',y,delimiter=',')"
   ]
  },
  {
   "cell_type": "code",
   "execution_count": 6,
   "metadata": {},
   "outputs": [],
   "source": [
    "optimalimg,velocitymap,dispersionmap,snrmap,x,y=preprocess(civoptimalcube,civvelocitymap,\n",
    "                                                          civdispersionmap,civsnrmap,noise_level=3.)\n",
    "\n",
    "optimalimg[optimalimg==999]=np.power(10,-2.8)\n",
    "optimalimg=optimalimg*1e3\n",
    "noise=np.random.normal(0,.01,optimalimg.shape)\n",
    "optimalimg+=noise\n",
    "\n",
    "dirc='/Users/shiwuzhang/WS/ASTRO/MAMMOTH_KCWI/analysis results/newresults/civ/'\n",
    "np.savetxt(dirc+'civimg.out',optimalimg,delimiter=',')\n",
    "np.savetxt(dirc+'civvelo.out',velocitymap,delimiter=',')\n",
    "np.savetxt(dirc+'civsnr.out',snrmap,delimiter=',')\n",
    "np.savetxt(dirc+'civdisp.out',dispersionmap,delimiter=',')\n",
    "np.savetxt(dirc+'civx',x,delimiter=',')\n",
    "np.savetxt(dirc+'civy',y,delimiter=',')"
   ]
  }
 ],
 "metadata": {
  "kernelspec": {
   "display_name": "Python 3",
   "language": "python",
   "name": "python3"
  },
  "language_info": {
   "codemirror_mode": {
    "name": "ipython",
    "version": 3
   },
   "file_extension": ".py",
   "mimetype": "text/x-python",
   "name": "python",
   "nbconvert_exporter": "python",
   "pygments_lexer": "ipython3",
   "version": "3.7.0"
  }
 },
 "nbformat": 4,
 "nbformat_minor": 2
}
