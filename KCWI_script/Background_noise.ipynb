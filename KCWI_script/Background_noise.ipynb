{
 "cells": [
  {
   "cell_type": "code",
   "execution_count": 1,
   "metadata": {},
   "outputs": [],
   "source": [
    "import numpy as np"
   ]
  },
  {
   "cell_type": "code",
   "execution_count": 2,
   "metadata": {},
   "outputs": [
    {
     "data": {
      "text/plain": [
       "array([1.72487803e-05])"
      ]
     },
     "execution_count": 2,
     "metadata": {},
     "output_type": "execute_result"
    }
   ],
   "source": [
    "flux=np.array([-2.161287e-5,1.438677e-5,-1.074431e-5,\n",
    "               1.369042e-5,-2.442332e-5,-1.680347e-5,\n",
    "               -1.787256e-5,-4.245487e-6,3.792977e-6,\n",
    "               -3.022475e-5,5.688934e-6,-2.308060e-5,\n",
    "               -2.142798e-5,4.456066e-6])\n",
    "rms=np.sqrt((flux**2).sum()/flux.shape)\n",
    "rms"
   ]
  },
  {
   "cell_type": "code",
   "execution_count": 3,
   "metadata": {},
   "outputs": [
    {
     "data": {
      "text/plain": [
       "array([2.17764965e-05])"
      ]
     },
     "execution_count": 3,
     "metadata": {},
     "output_type": "execute_result"
    }
   ],
   "source": [
    "flux=np.array([-2.95295e-5,-2.208699e-6,-2.732559e-5,\n",
    "               -3.394809e-5,-3.028184e-5,-8.415157e-6,\n",
    "               2.685835e-5,1.279656e-5,-6.626855e-6,\n",
    "               1.706381e-5,-1.313285e-5,-4.282121e-6,\n",
    "               -3.975845e-5,-4.77777e-8,-2.008383e-5,\n",
    "               -2.070026e-5])\n",
    "rms=np.sqrt((flux**2).sum()/flux.shape)\n",
    "rms"
   ]
  },
  {
   "cell_type": "code",
   "execution_count": null,
   "metadata": {},
   "outputs": [],
   "source": []
  }
 ],
 "metadata": {
  "kernelspec": {
   "display_name": "Python 3",
   "language": "python",
   "name": "python3"
  },
  "language_info": {
   "codemirror_mode": {
    "name": "ipython",
    "version": 3
   },
   "file_extension": ".py",
   "mimetype": "text/x-python",
   "name": "python",
   "nbconvert_exporter": "python",
   "pygments_lexer": "ipython3",
   "version": "3.7.0"
  }
 },
 "nbformat": 4,
 "nbformat_minor": 2
}
