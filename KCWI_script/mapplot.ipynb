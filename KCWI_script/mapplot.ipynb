{
 "cells": [
  {
   "cell_type": "markdown",
   "metadata": {},
   "source": [
    "#### This notebook read maps generate from map_generator.ipynb and plot it."
   ]
  },
  {
   "cell_type": "code",
   "execution_count": 1,
   "metadata": {},
   "outputs": [],
   "source": [
    "import numpy as np\n",
    "from matplotlib import pyplot as plt\n",
    "from matplotlib import colors\n",
    "from astropy import units as u"
   ]
  },
  {
   "cell_type": "markdown",
   "metadata": {},
   "source": [
    "Read the maps"
   ]
  },
  {
   "cell_type": "code",
   "execution_count": 2,
   "metadata": {},
   "outputs": [],
   "source": [
    "lydir='/Users/shiwuzhang/WS/ASTRO/MAMMOTH_KCWI/analysis results/newresults/ly/'\n",
    "lynames={'x':'lyx','y':'lyy','img':'lyimg.out','velocity':'lyvelo.out',\n",
    "         'dispersion':'lydisp.out','snr':'lysnr.out'}\n",
    "lynorm=[colors.SymLogNorm(linthresh=3, linscale=0.1),\n",
    "        colors.SymLogNorm(linthresh=650, linscale=3),\n",
    "        colors.SymLogNorm(linthresh=650, linscale=1)]\n",
    "heiidir='/Users/shiwuzhang/WS/ASTRO/MAMMOTH_KCWI/analysis results/newresults/heii/'\n",
    "heiinames={'x':'heiix','y':'heiiy','img':'heiiimg.out','velocity':'heiivelo.out',\n",
    "         'dispersion':'heiidisp.out','snr':'heiisnr.out'}\n",
    "heiinorm=[colors.SymLogNorm(linthresh=1.6, linscale=0.05),\n",
    "          colors.SymLogNorm(linthresh=650, linscale=3),\n",
    "          colors.SymLogNorm(linthresh=650, linscale=1)]\n",
    "civdir='/Users/shiwuzhang/WS/ASTRO/MAMMOTH_KCWI/analysis results/newresults/civ/'\n",
    "civnames={'x':'civx','y':'civy','img':'civimg.out','velocity':'civvelo.out',\n",
    "         'dispersion':'civdisp.out','snr':'civsnr.out'}\n",
    "civnorm=[colors.SymLogNorm(linthresh=1.6, linscale=0.05),\n",
    "         colors.SymLogNorm(linthresh=800, linscale=5),\n",
    "         colors.SymLogNorm(linthresh=1000, linscale=1)]"
   ]
  },
  {
   "cell_type": "markdown",
   "metadata": {},
   "source": [
    "coordinate of Sources marked on the maps"
   ]
  },
  {
   "cell_type": "code",
   "execution_count": 3,
   "metadata": {},
   "outputs": [],
   "source": [
    "lysources=np.array([[40.052625, 220.3519792], [40.05221366, 220.3519858],\n",
    "                  [40.05297755, 220.3520401], [40.05222735, 220.3493004],\n",
    "                  [40.0534915, 220.3529473], [40.05224151, 220.3531833],\n",
    "                  [40.0535024, 220.349928],[40.05106072, 220.3497904]])*u.deg\n",
    "lysources_name=['Source-B','','','G-6',\n",
    "              'G-1','G-3','G-5','G-4']\n",
    "heiisources=np.array([[40.052625, 220.3519792], [40.05221366, 220.3519858],\n",
    "                  [40.05297755, 220.3520401],[40.0534915, 220.3529473],\n",
    "                  [40.05224151, 220.3531833]])*u.deg\n",
    "heiisources_name=['Source-B','','',\n",
    "              'G-1','G-3']\n",
    "civsources=np.array([[40.052625, 220.3519792], [40.05221366, 220.3519858],\n",
    "                  [40.05297755, 220.3520401],[40.0534915, 220.3529473],\n",
    "                  [40.05224151, 220.3531833]])*u.deg\n",
    "civsources_name=['Source-B','','',\n",
    "              'G-1','G-3']\n",
    "refpoint=np.array([40.052625, 220.3519792])*u.deg\n",
    "lysources=(lysources-refpoint).to(u.arcsec).value\n",
    "heiisources=(heiisources-refpoint).to(u.arcsec).value\n",
    "civsources=(civsources-refpoint).to(u.arcsec).value"
   ]
  },
  {
   "cell_type": "code",
   "execution_count": 4,
   "metadata": {},
   "outputs": [],
   "source": [
    "class MAP:\n",
    "    def __init__(self,location,names,snrlevel,\n",
    "                 norm,AX,map_name,sources,sources_name):\n",
    "        self.x=np.genfromtxt(location+names['x'],delimiter=',')\n",
    "        self.y=np.genfromtxt(location+names['y'],delimiter=',')\n",
    "        self.img=np.genfromtxt(location+names['img'],delimiter=',')\n",
    "        self.velo=np.genfromtxt(location+names['velocity'],delimiter=',')\n",
    "        self.disp=np.genfromtxt(location+names['dispersion'],delimiter=',')\n",
    "        self.snr=np.genfromtxt(location+names['snr'],delimiter=',')\n",
    "        self.map=[self.img,self.velo,self.disp,self.snr]\n",
    "        self.snrlevel=snrlevel\n",
    "        self.norm=norm\n",
    "        self.AX=AX\n",
    "        self.name=map_name\n",
    "        self.sources=sources\n",
    "        self.sources_name=sources_name\n",
    "    def plot(self):\n",
    "        '''\n",
    "        AX should be an array with 3 cells,\n",
    "        each cell is an axes\n",
    "        '''\n",
    "        self.AX[0].contour(self.x,self.y,self.snr,levels=self.snrlevel)\n",
    "        self.AX[0].contourf(self.x,self.y,self.img,cmap='Spectral_r',\n",
    "                            levels=30,norm=self.norm[0])\n",
    "        self.AX[0].set_title(self.name,fontsize=15)\n",
    "        velo=self.AX[1].contourf(self.x,self.y,self.velo,cmap='RdYlBu_r',\n",
    "                                 levels=30,norm=self.norm[1])\n",
    "        disp=self.AX[2].contourf(self.x,self.y,self.disp,cmap='RdYlBu_r',\n",
    "                                 levels=30,norm=self.norm[2])\n",
    "        \n",
    "        cbarvelo=self.velo[~np.isnan(self.velo)]\n",
    "        cbarvelo_ticks=np.linspace(np.min(cbarvelo), \n",
    "                                   np.max(cbarvelo),5)\n",
    "        cbarvelo_ticks=cbarvelo_ticks.astype(int)\n",
    "        cbarv=fig.colorbar(velo, ax=self.AX[1],shrink=0.9,\n",
    "                           orientation='horizontal',pad=0.05)\n",
    "        \n",
    "        cbardisp=self.disp[~np.isnan(self.disp)]\n",
    "        cbardisp_ticks=np.linspace(0, np.max(cbardisp),5)\n",
    "        cbardisp_ticks=cbardisp_ticks.astype(int)\n",
    "        cbard=fig.colorbar(disp, ax=self.AX[2],shrink=0.9,\n",
    "                           orientation='horizontal',pad=0.05)\n",
    "        \n",
    "        cbarv.set_ticks(cbarvelo_ticks)\n",
    "        cbarv.set_ticklabels(cbarvelo_ticks)\n",
    "        cbard.set_ticks(cbardisp_ticks)\n",
    "        cbard.set_ticklabels(cbardisp_ticks)\n",
    "        cbarv.ax.tick_params(labelsize=10.)\n",
    "        cbard.ax.tick_params(labelsize=10.)\n",
    "        \n",
    "        cbarv.set_label(r'$v$(km/s)',fontsize=10)\n",
    "        cbard.set_label(r'$\\sigma_{v}$(km/s)',fontsize=10)\n",
    "        for i in range(3):\n",
    "            self.AX[i].set_aspect('equal')\n",
    "        for i in range(1,3):\n",
    "            self.AX[i].set_xticks([])\n",
    "            self.AX[i].set_yticks([])\n",
    "        AX[0].tick_params(axis='both', labelsize=10)\n",
    "        return None\n",
    "    \n",
    "    def sourcesmark(self):\n",
    "        for i in range(3):\n",
    "            for j in range(self.sources.shape[0]):\n",
    "                if j<=2:\n",
    "                    mk='*'\n",
    "                else:\n",
    "                    mk='+'\n",
    "                self.AX[i].scatter(self.sources[j,0],self.sources[j,1],\n",
    "                              s=40.,linewidth=.8, color='black',marker=mk)\n",
    "                self.AX[i].text(self.sources[j,0]+1,self.sources[j,1]-1,\n",
    "                           self.sources_name[j],fontsize=7)"
   ]
  },
  {
   "cell_type": "code",
   "execution_count": null,
   "metadata": {},
   "outputs": [],
   "source": [
    "fig_dir='/Users/shiwuzhang/WS/ASTRO/MAMMOTH_KCWI/paper/ApJtemplate/figs/'\n",
    "fig,AX=plt.subplots(3,3)\n",
    "AX=AX.flatten()\n",
    "lymap=MAP(lydir,lynames,[3,11,19,31,43],\n",
    "          lynorm,AX[:3],r'$Ly\\alpha$',lysources,lysources_name)\n",
    "heiimap=MAP(heiidir,heiinames,[2,4,6,8,10],\n",
    "            heiinorm,AX[3:6],r'$HeII$',heiisources,heiisources_name)\n",
    "civmap=MAP(civdir,civnames,[2,4,6,8,10],\n",
    "           civnorm,AX[6:],r'$CIV$',civsources,civsources_name)\n",
    "lymap.plot()\n",
    "lymap.sourcesmark()\n",
    "heiimap.plot()\n",
    "heiimap.sourcesmark()\n",
    "civmap.plot()\n",
    "civmap.sourcesmark()\n",
    "fig.text(0.5, 0.05, r'$\\Delta DEC(arcsec)$', ha='center', fontsize=20.)\n",
    "fig.text(0.05, 0.5, r'$\\Delta RA(arcsec)$', va='center', rotation='vertical', fontsize=20.)\n",
    "plt.subplots_adjust(wspace=.1)\n",
    "plt.rcParams['figure.figsize'] = [10, 10]\n",
    "plt.savefig(fig_dir+'emissionmap.png',dpi=300)"
   ]
  }
 ],
 "metadata": {
  "kernelspec": {
   "display_name": "Python 3",
   "language": "python",
   "name": "python3"
  },
  "language_info": {
   "codemirror_mode": {
    "name": "ipython",
    "version": 3
   },
   "file_extension": ".py",
   "mimetype": "text/x-python",
   "name": "python",
   "nbconvert_exporter": "python",
   "pygments_lexer": "ipython3",
   "version": "3.7.0"
  }
 },
 "nbformat": 4,
 "nbformat_minor": 2
}
