{
 "cells": [
  {
   "cell_type": "code",
   "execution_count": 1,
   "metadata": {},
   "outputs": [],
   "source": [
    "import numpy as np\n",
    "import astropy.units as u\n",
    "import astropy.constants as const\n",
    "import matplotlib.pyplot as plt\n",
    "from matplotlib import rcParams\n",
    "\n",
    "#set the default plot parameter\n",
    "plt_param={'lines.linewidth':1,\n",
    "           'xtick.labelsize':12,\n",
    "           'ytick.labelsize':12,\n",
    "           'axes.labelsize':16,\n",
    "           'xtick.direction':'in',\n",
    "           'ytick.direction':'in',\n",
    "           'font.style':'italic',\n",
    "           'font.weight':'normal',\n",
    "           'figure.figsize':[5,5],'xtick.minor.visible':True,\n",
    "           'ytick.minor.visible':True,\n",
    "           'xtick.major.size':4,\n",
    "           'ytick.major.size':4,\n",
    "           'xtick.minor.size':2,\n",
    "           'ytick.minor.size':2,\n",
    "           'xtick.major.width':.8,\n",
    "           'ytick.major.width':.8,\n",
    "           'xtick.top':True,\n",
    "           'ytick.right':True,\n",
    "           'axes.spines.bottom':True,\n",
    "           'axes.spines.top':True,\n",
    "           'axes.spines.left':True,\n",
    "           'axes.spines.right':True,\n",
    "           'xtick.bottom':True,\n",
    "           'xtick.labelbottom':True,\n",
    "           'ytick.left':True,\n",
    "           'ytick.labelleft':True}\n",
    "rcParams.update(plt_param)"
   ]
  },
  {
   "cell_type": "code",
   "execution_count": 22,
   "metadata": {},
   "outputs": [],
   "source": [
    "L_AGN=8e11*u.M_sun/u.yr\n",
    "m_out_up=73206.2846526296\n",
    "m_out_low=500\n",
    "m_out=(10**((np.log10(m_out_up)+np.log10(m_out_low))/2.))*u.M_sun/u.yr\n",
    "P_out=(m_out*300*u.km /u.s).to(u.erg/u.m)\n",
    "\n",
    "L_AGN=(2.2e12*u.L_sun).to(u.erg/u.s)\n",
    "P_radiation=(L_AGN/const.c).to(u.erg/u.m)\n",
    "\n",
    "ratio=P_out/P_radiation"
   ]
  },
  {
   "cell_type": "code",
   "execution_count": 23,
   "metadata": {},
   "outputs": [
    {
     "data": {
      "text/latex": [
       "$8.4216 \\times 10^{45} \\; \\mathrm{\\frac{erg}{s}}$"
      ],
      "text/plain": [
       "<Quantity 8.4216e+45 erg / s>"
      ]
     },
     "execution_count": 23,
     "metadata": {},
     "output_type": "execute_result"
    }
   ],
   "source": [
    "L_AGN.to(u.erg/u.s)"
   ]
  },
  {
   "cell_type": "code",
   "execution_count": 24,
   "metadata": {},
   "outputs": [
    {
     "data": {
      "text/latex": [
       "$40.712033 \\; \\mathrm{}$"
      ],
      "text/plain": [
       "<Quantity 40.71203318>"
      ]
     },
     "execution_count": 24,
     "metadata": {},
     "output_type": "execute_result"
    }
   ],
   "source": [
    "ratio"
   ]
  },
  {
   "cell_type": "code",
   "execution_count": 11,
   "metadata": {},
   "outputs": [],
   "source": [
    "dic='/Users/shiwuzhang/WS/ASTRO/MAMMOTH_KCWI/analysis results/'\n",
    "ratio_list=np.genfromtxt(dic+'momentum_ratio.txt',delimiter=',')"
   ]
  },
  {
   "cell_type": "code",
   "execution_count": 32,
   "metadata": {},
   "outputs": [
    {
     "data": {
      "image/png": "[encoded data removed]",
      "text/plain": [
       "<Figure size 360x360 with 1 Axes>"
      ]
     },
     "metadata": {
      "needs_background": "light"
     },
     "output_type": "display_data"
    }
   ],
   "source": [
    "fig,ax=plt.subplots(1,1)\n",
    "savedic='/Users/shiwuzhang/WS/ASTRO/MAMMOTH_KCWI/draft_code/paper/ApJtemplate/figs/'\n",
    "ax.scatter(ratio_list[:,0],ratio_list[:,1],marker='D',\n",
    "           color='royalblue',label='Harrison et. al 2014')\n",
    "ax.scatter(np.log10(L_AGN.value),np.log10(ratio),marker='*',\n",
    "           color='red',label='our result',s=100)\n",
    "ax.set_ylim(-1.5,4)\n",
    "ax.axhline(np.log10(40),color='gray',ls='--',lw=2)\n",
    "ax.text(44.3,np.log10(40)+.08,\n",
    "        r'$$\\rm \\bf{{\\dot{P}}_{\\rm \\bf{out}}/\\dot{P}_{\\rm \\bf{radiation}}=40}$$',fontsize=12)\n",
    "ax.set_xlabel(r'log(L$_{\\rm AGN}$ erg s$^{-1}$)')\n",
    "ax.set_ylabel(r'$$\\rm \\dot{P}_{\\rm out}/\\dot{P}_{\\rm radiation}$$')\n",
    "plt.legend()\n",
    "# plt.show()\n",
    "plt.savefig(savedic+'momentum_ratio.png',dpi=300)"
   ]
  }
 ],
 "metadata": {
  "kernelspec": {
   "display_name": "Python 3",
   "language": "python",
   "name": "python3"
  },
  "language_info": {
   "codemirror_mode": {
    "name": "ipython",
    "version": 3
   },
   "file_extension": ".py",
   "mimetype": "text/x-python",
   "name": "python",
   "nbconvert_exporter": "python",
   "pygments_lexer": "ipython3",
   "version": "3.7.0"
  }
 },
 "nbformat": 4,
 "nbformat_minor": 2
}
