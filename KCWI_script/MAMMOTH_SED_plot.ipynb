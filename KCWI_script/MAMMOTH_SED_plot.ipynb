{
 "cells": [
  {
   "cell_type": "code",
   "execution_count": 1,
   "metadata": {},
   "outputs": [],
   "source": [
    "import numpy as np\n",
    "import matplotlib.pyplot as plt\n",
    "from matplotlib import rcParams\n",
    "from astropy import units as u\n",
    "from astropy import constants as const\n",
    "\n",
    "#set the default plot parameter\n",
    "plt_param={'font.family':'serif',\n",
    "           'font.serif':'Times New Roman',\n",
    "           'lines.linewidth':1,\n",
    "           'xtick.labelsize':12,\n",
    "           'ytick.labelsize':12,\n",
    "           'axes.labelsize':16,\n",
    "           'xtick.direction':'in',\n",
    "           'ytick.direction':'in',\n",
    "           'font.style':'italic',\n",
    "           'font.weight':'normal',\n",
    "           'figure.figsize':[5,5],'xtick.minor.visible':True,\n",
    "           'ytick.minor.visible':True,\n",
    "           'xtick.major.size':4,\n",
    "           'ytick.major.size':4,\n",
    "           'xtick.minor.size':2,\n",
    "           'ytick.minor.size':2,\n",
    "           'xtick.major.width':.8,\n",
    "           'ytick.major.width':.8,\n",
    "           'xtick.top':True,\n",
    "           'ytick.right':True,\n",
    "           'axes.spines.bottom':True,\n",
    "           'axes.spines.top':True,\n",
    "           'axes.spines.left':True,\n",
    "           'axes.spines.right':True,\n",
    "           'xtick.bottom':True,\n",
    "           'xtick.labelbottom':True,\n",
    "           'ytick.left':True,\n",
    "           'ytick.labelleft':True}\n",
    "rcParams.update(plt_param)"
   ]
  },
  {
   "cell_type": "code",
   "execution_count": 24,
   "metadata": {},
   "outputs": [],
   "source": [
    "dic='/Users/shiwuzhang/WS/ASTRO/MAMMOTH_KCWI/'\n",
    "arr=np.genfromtxt(dic+'M82_sed.txt',delimiter=',')\n",
    "wave,flux=arr[:,0]*u.AA,arr[:,1]*(10**25.2)*u.erg/(u.second*u.AA)\n",
    "\n",
    "#convert luminosity to flux(mJy)\n",
    "D=12.4*1000000*u.lyr\n",
    "flux_wave=(flux/(4*np.pi*D**2))\n",
    "flux_nu=flux_wave*(wave**2)/const.c\n",
    "flux_nu=flux_nu.to(u.mJy).value\n",
    "wave=wave.to(u.um).value*3.3"
   ]
  },
  {
   "cell_type": "code",
   "execution_count": 30,
   "metadata": {},
   "outputs": [],
   "source": [
    "#MAMMOTH flux for different bands\n",
    "wave_mammoth=np.array([0.36,0.51,0.79,1.1,\n",
    "                       1.7,2.05,3.1,4.9,10.2,\n",
    "                       20,450,850])\n",
    "flux_mammoth=np.array([2.1*1e-4,7.6*1e-4,7.9*1e-4,\n",
    "               30.9*1e-4,79.7*1e-4,113.4*1e-4,\n",
    "               0.061,0.087,0.22,1.3,17,4.6])\n",
    "err_mammoth=np.array([0.2e-4,0.4e-4,0.8e-4,2.8e-4,\n",
    "                      5.1e-4,8.3e-4,0.004,0.008,\n",
    "                      0.09,.9,10,.9])\n",
    "\n",
    "flux_mammoth_optical=flux_mammoth[:6]\n",
    "wave_mammoth_optical=wave_mammoth[:6]\n",
    "err_mammoth_optical=err_mammoth[:6]\n",
    "\n",
    "flux_mammoth_aw=flux_mammoth[6:10]\n",
    "wave_mammoth_aw=wave_mammoth[6:10]\n",
    "err_mammoth_aw=err_mammoth[6:10]\n",
    "\n",
    "flux_mammoth_other=flux_mammoth[10:]\n",
    "wave_mammoth_other=wave_mammoth[10:]\n",
    "err_mammoth_other=err_mammoth[10:]\n",
    "\n",
    "#upper limit for mammoth extimate from\n",
    "#the continuum image of VLA and ALMA\n",
    "flux_mammoth_up=np.array([5.046032e-2,2.17764965e-2])\n",
    "wave_mammoth_up=np.array([8565.4988,1998.6163867])"
   ]
  },
  {
   "cell_type": "code",
   "execution_count": 32,
   "metadata": {
    "scrolled": false
   },
   "outputs": [
    {
     "data": {
      "image/png": "[encoded data removed]",
      "text/plain": [
       "<Figure size 432x360 with 1 Axes>"
      ]
     },
     "metadata": {
      "needs_background": "light"
     },
     "output_type": "display_data"
    }
   ],
   "source": [
    "fig,ax=plt.subplots(1,1)\n",
    "ax.plot(wave,flux_nu,lw=2.,color='black',label='M82')\n",
    "ax.errorbar(wave_mammoth_optical,flux_mammoth_optical,marker='o',\n",
    "            yerr=err_mammoth_optical,color='cornflowerblue',\n",
    "            alpha=1,linestyle='none',label='UViJHK imaging')\n",
    "ax.errorbar(wave_mammoth_aw,flux_mammoth_aw,\n",
    "            uplims=np.array([0,0,0,1],dtype=bool),yerr=err_mammoth_aw,\n",
    "            color='orange',marker='o',alpha=1,linestyle='none'\n",
    "            ,label='ALLWISE Source Catalog')\n",
    "ax.errorbar(wave_mammoth_other,flux_mammoth_other,marker='o',\n",
    "            yerr=err_mammoth_other,color='hotpink',alpha=1,\n",
    "            uplims=np.array([1,0],dtype=bool),\n",
    "            linestyle='none',label='SCUBA-2/JCMT')\n",
    "ax.errorbar(wave_mammoth_up,flux_mammoth_up,\n",
    "            yerr=np.array([.03,.01]),\n",
    "            uplims=np.array([1,1],dtype=bool),\n",
    "            color='darkred',alpha=1,marker='o',\n",
    "            linestyle='none',label='ALMA;VLA')\n",
    "ax.set_xlabel(r'$\\rm \\lambda_{obs}$(um)')\n",
    "ax.set_ylabel(r'$\\rm F_{\\nu}$(mJy)')\n",
    "ax.set_xscale('log')\n",
    "ax.set_yscale('log')\n",
    "plt.legend()\n",
    "dic='/Users/shiwuzhang/WS/ASTRO/MAMMOTH_KCWI/draft_code/paper/ApJtemplate/figs/'\n",
    "plt.rcParams['figure.figsize'] = [6, 5]\n",
    "# plt.show()\n",
    "plt.savefig(dic+'SED_fitting.png',dpi=300)"
   ]
  },
  {
   "cell_type": "code",
   "execution_count": 22,
   "metadata": {},
   "outputs": [
    {
     "name": "stdout",
     "output_type": "stream",
     "text": [
      "8565.498800000001 um\n",
      "1998.6163866666668 um\n"
     ]
    }
   ],
   "source": [
    "nu1=35*u.GHz\n",
    "nu2=150*u.GHz\n",
    "\n",
    "wave1=(const.c/nu1).to(u.um)\n",
    "wave2=(const.c/nu2).to(u.um)\n",
    "print(wave1)\n",
    "print(wave2)"
   ]
  }
 ],
 "metadata": {
  "kernelspec": {
   "display_name": "Python 3",
   "language": "python",
   "name": "python3"
  },
  "language_info": {
   "codemirror_mode": {
    "name": "ipython",
    "version": 3
   },
   "file_extension": ".py",
   "mimetype": "text/x-python",
   "name": "python",
   "nbconvert_exporter": "python",
   "pygments_lexer": "ipython3",
   "version": "3.7.0"
  }
 },
 "nbformat": 4,
 "nbformat_minor": 2
}
