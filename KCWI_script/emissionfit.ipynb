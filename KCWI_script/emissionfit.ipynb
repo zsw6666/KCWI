{
 "cells": [
  {
   "cell_type": "code",
   "execution_count": 1,
   "metadata": {},
   "outputs": [],
   "source": [
    "import numpy as np\n",
    "import matplotlib.pyplot as plt\n",
    "from scipy.optimize import curve_fit\n",
    "from scipy import signal"
   ]
  },
  {
   "cell_type": "code",
   "execution_count": 2,
   "metadata": {},
   "outputs": [],
   "source": [
    "dic='/Users/shiwuzhang/WS/ASTRO/MAMMOTH_KCWI/analysis results/newresults/specmap/'\n",
    "specmap_name='spec_ap.out'\n",
    "ramap_name='ra_ap.out'\n",
    "decmap_name='dec_ap.out'\n",
    "spectral_axis_name='spec_axis.out'\n",
    "specmap=np.genfromtxt(dic+specmap_name,delimiter=',')\n",
    "ramap=np.genfromtxt(dic+ramap_name,delimiter=',')\n",
    "decmap=np.genfromtxt(dic+decmap_name,delimiter=',')\n",
    "spectral_axis=np.genfromtxt(dic+spectral_axis_name,delimiter=',')"
   ]
  },
  {
   "cell_type": "code",
   "execution_count": 3,
   "metadata": {},
   "outputs": [
    {
     "name": "stderr",
     "output_type": "stream",
     "text": [
      "/usr/local/lib/python3.7/site-packages/scipy/signal/_arraytools.py:45: FutureWarning: Using a non-tuple sequence for multidimensional indexing is deprecated; use `arr[tuple(seq)]` instead of `arr[seq]`. In the future this will be interpreted as an array index, `arr[np.array(seq)]`, which will result either in an error or a different result.\n",
      "  b = a[a_slice]\n"
     ]
    }
   ],
   "source": [
    "spec_noise=[]\n",
    "def signalfilter(data,N,wn):\n",
    "    b,a=signal.butter(N,wn,'highpass')\n",
    "    noise=signal.filtfilt(b,a,data)\n",
    "    return noise\n",
    "\n",
    "for i in range(25):\n",
    "    noise=signalfilter(specmap[i]/specmap[i].max(),3,0.3)\n",
    "    spec_noise.append(noise)\n",
    "spec_noise=np.array(spec_noise)\n",
    "spec_sigma=np.std(spec_noise,axis=1)"
   ]
  },
  {
   "cell_type": "code",
   "execution_count": 4,
   "metadata": {},
   "outputs": [],
   "source": [
    "def gaussian(x,mu,sigma,A):\n",
    "    \n",
    "    exp_index=-0.5*np.power((x-mu)/sigma,2)\n",
    "    y=A*np.exp(exp_index)\n",
    "    return y\n",
    "\n",
    "def emissionfit(fitfunc,x,y,initpara=None):\n",
    "    popt,pcov=curve_fit(fitfunc,x,y,p0=initpara,\n",
    "                        method='lm',maxfev=100000)\n",
    "    return popt,pcov"
   ]
  },
  {
   "cell_type": "code",
   "execution_count": 5,
   "metadata": {},
   "outputs": [],
   "source": [
    "spec_axis_model=np.linspace(spectral_axis.min(),spectral_axis.max(),500)\n",
    "specmap_model=[]\n",
    "para=[]\n",
    "for i in range(25):\n",
    "    popt,pcov=emissionfit(gaussian,spectral_axis,\n",
    "                          specmap[i],[0,300,1])\n",
    "    spec_model=gaussian(spec_axis_model,*popt)\n",
    "    specmap_model.append(spec_model)\n",
    "    para.append(popt)\n",
    "para=np.array(para)\n",
    "specmap_model=np.array(specmap_model)"
   ]
  },
  {
   "cell_type": "code",
   "execution_count": 6,
   "metadata": {},
   "outputs": [],
   "source": [
    "dic='/Users/shiwuzhang/WS/ASTRO/MAMMOTH_KCWI/analysis results/newresults/specmap/'\n",
    "np.savetxt(dic+'spec_ap_model.out',specmap_model,delimiter=',')\n",
    "np.savetxt(dic+'spec_axis_model.out',spec_axis_model,delimiter=',')\n",
    "np.savetxt(dic+'spec_axis_para.out',para,delimiter=',')\n",
    "np.savetxt(dic+'spec_noise.out',spec_sigma,delimiter=',')"
   ]
  },
  {
   "cell_type": "code",
   "execution_count": null,
   "metadata": {},
   "outputs": [],
   "source": []
  }
 ],
 "metadata": {
  "kernelspec": {
   "display_name": "Python 3",
   "language": "python",
   "name": "python3"
  },
  "language_info": {
   "codemirror_mode": {
    "name": "ipython",
    "version": 3
   },
   "file_extension": ".py",
   "mimetype": "text/x-python",
   "name": "python",
   "nbconvert_exporter": "python",
   "pygments_lexer": "ipython3",
   "version": "3.7.0"
  }
 },
 "nbformat": 4,
 "nbformat_minor": 2
}
