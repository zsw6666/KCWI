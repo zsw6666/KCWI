{
 "cells": [
  {
   "cell_type": "code",
   "execution_count": 1,
   "metadata": {},
   "outputs": [],
   "source": [
    "import numpy as np\n",
    "from astropy.io import fits\n",
    "from astropy.stats import sigma_clip\n",
    "from matplotlib import colors\n",
    "from astropy.convolution import convolve, Gaussian2DKernel\n",
    "import astropy.units as u\n",
    "import astropy.constants as const\n",
    "import matplotlib.pyplot as plt"
   ]
  },
  {
   "cell_type": "code",
   "execution_count": 2,
   "metadata": {},
   "outputs": [],
   "source": [
    "def count2flux(img_count,replacer=1e-10,\n",
    "               lamda=21650,delta_lamda=250):\n",
    "    '''\n",
    "    convert counts map to flux map.\n",
    "    lamda and delta_lamda in unit of 250 \n",
    "    '''\n",
    "    #replace negtive value with positive\n",
    "    img_count[img_count<=0]=replacer\n",
    "    \n",
    "    mag=-2.5*np.log10(img_count)+24.37\n",
    "    flux_nu=10**(-(mag+48.6)/2.5)\n",
    "    flux_lamda=flux_nu*const.c.to(u.AA/u.second).value/(lamda**2)\n",
    "    flux=flux_lamda*delta_lamda*u.erg/(u.second*(u.cm**2))\n",
    "    \n",
    "    return flux\n",
    "\n",
    "def pix2world(shape,delta,origin_pix,origin_world):\n",
    "    '''\n",
    "    convert pixel coordinate to\n",
    "    ra,dec, origin_pix and origin_world\n",
    "    is the coordinate of origin in \n",
    "    different frame. They are both 1-d\n",
    "    array with two elements\n",
    "    return two 1-d arrays of ra and \n",
    "    dec respectively\n",
    "    '''\n",
    "    \n",
    "    x,y=np.arange(shape[1]),np.arange(shape[0])\n",
    "    X,Y=np.meshgrid(x,y)\n",
    "    ra_map=(origin_pix[0]-X)*delta[0]+origin_world[0]\n",
    "    dec_map=(origin_pix[1]-Y)*delta[1]+origin_world[1]\n",
    "    \n",
    "    return ra_map.mean(axis=0), dec_map.mean(axis=1)"
   ]
  },
  {
   "cell_type": "code",
   "execution_count": 21,
   "metadata": {},
   "outputs": [],
   "source": [
    "dic='/Users/shiwuzhang/WS/ASTRO/MAMMOTH_KCWI/results/'\n",
    "h_alpha_fits=fits.open(dic+'MORICS_MAMMOTH1_sub.fits')"
   ]
  },
  {
   "cell_type": "markdown",
   "metadata": {},
   "source": [
    "convert counts to flux"
   ]
  },
  {
   "cell_type": "code",
   "execution_count": 22,
   "metadata": {},
   "outputs": [],
   "source": [
    "img_count=h_alpha_fits[0].data\n",
    "img_flux=count2flux(img_count)"
   ]
  },
  {
   "cell_type": "markdown",
   "metadata": {},
   "source": [
    "smooth the data use a gaussian kernel with size of 12 and standard deviation of 3 corresponding to radius of 1.4\""
   ]
  },
  {
   "cell_type": "code",
   "execution_count": 23,
   "metadata": {},
   "outputs": [],
   "source": [
    "kernel=Gaussian2DKernel(x_stddev=3,y_stddev=3,x_size=61,y_size=61)\n",
    "smoothed_img_flux=convolve(img_flux.value,kernel)"
   ]
  },
  {
   "cell_type": "markdown",
   "metadata": {},
   "source": [
    "H$\\rm \\alpha$ total flux;source spatial position:105: 280, 50: 244"
   ]
  },
  {
   "cell_type": "code",
   "execution_count": 24,
   "metadata": {},
   "outputs": [
    {
     "data": {
      "text/plain": [
       "4.855174332915148e-15"
      ]
     },
     "execution_count": 24,
     "metadata": {},
     "output_type": "execute_result"
    }
   ],
   "source": [
    "smoothed_img_flux[105: 280, 50: 244].sum()"
   ]
  },
  {
   "cell_type": "markdown",
   "metadata": {},
   "source": [
    "calculate the noise of background and produce the snr map select a region without signal 200:,250:. Set pixels < 4$\\rm \\sigma$--> 0"
   ]
  },
  {
   "cell_type": "code",
   "execution_count": 27,
   "metadata": {},
   "outputs": [],
   "source": [
    "noise=img_flux[200:,250:].value.std()\n",
    "img_snr=smoothed_img_flux/noise\n",
    "smoothed_img_flux[img_snr<(4/4.824597754018175)]=smoothed_img_flux.min()*1e-10"
   ]
  },
  {
   "cell_type": "markdown",
   "metadata": {},
   "source": [
    "cut image"
   ]
  },
  {
   "cell_type": "code",
   "execution_count": 28,
   "metadata": {},
   "outputs": [],
   "source": [
    "replacer=smoothed_img_flux.min()*1e-10\n",
    "smoothed_img_flux[255:]=replacer\n",
    "smoothed_img_flux[:130]=replacer\n",
    "smoothed_img_flux[:,200:]=replacer\n",
    "smoothed_img_flux[:,:58]=replacer\n",
    "smoothed_img_flux[130:175,50:100]=replacer\n",
    "smoothed_img_flux[235:260,50:80]=replacer\n",
    "smoothed_img_flux[130:155,180:200]=replacer\n",
    "smoothed_img_flux[235:260,160:200]=replacer"
   ]
  },
  {
   "cell_type": "markdown",
   "metadata": {},
   "source": [
    "calculate the SNR map"
   ]
  },
  {
   "cell_type": "code",
   "execution_count": 29,
   "metadata": {},
   "outputs": [],
   "source": [
    "img_snr=smoothed_img_flux/noise"
   ]
  },
  {
   "cell_type": "markdown",
   "metadata": {},
   "source": [
    "convert physical coordinate to ra,dec"
   ]
  },
  {
   "cell_type": "code",
   "execution_count": 30,
   "metadata": {},
   "outputs": [],
   "source": [
    "delta=[(6.864583279e-05)/2.,(7.077716112e-05)/2.05]\n",
    "origin_pix=[148,200]\n",
    "origin_world=[220.3521004,40.05267509]\n",
    "ra,dec=pix2world(img_flux.shape,delta,origin_pix,origin_world)\n",
    "delta_ra=(ra-origin_world[0])*u.deg.to(u.arcsecond)\n",
    "delta_dec=(dec-origin_world[1])*u.deg.to(u.arcsecond)"
   ]
  },
  {
   "cell_type": "markdown",
   "metadata": {},
   "source": [
    "add the sources coordinate"
   ]
  },
  {
   "cell_type": "code",
   "execution_count": 32,
   "metadata": {},
   "outputs": [],
   "source": [
    "sources_list=np.array([[220.3517351,40.05269063],\n",
    "                       [220.3521004,40.05267509],\n",
    "                       [220.3519736,40.05221132],\n",
    "                       [220.3520722,40.05297709],\n",
    "                       \n",
    "                       [220.3531717,40.05223288],\n",
    "                       [220.3497255,40.05104434],\n",
    "                       [220.3492992,40.05225575],\n",
    "                       [220.3499296,40.05351636],\n",
    "                       [220.3525,40.0545]])*u.deg\n",
    "sources_list[:,0]=sources_list[:,0]-0.0002*u.deg\n",
    "source_name=['source-B','G-3','G-4','G-6','G-5','G-1']\n",
    "source_name_coor=np.array([[220.3520722,40.05297709],[220.3531717,40.05223288],\n",
    "                           [220.3497255,40.05104434],[220.3492992,40.05225575],\n",
    "                           [220.3499296,40.05351636],[220.3525,40.0545]])*u.deg\n",
    "delta_sources=(sources_list-origin_world*u.deg).to(u.arcsec).value\n",
    "delta_source_name_coor=(source_name_coor-origin_world*u.deg).to(u.arcsec).value"
   ]
  },
  {
   "cell_type": "markdown",
   "metadata": {},
   "source": [
    "Plot the flux image"
   ]
  },
  {
   "cell_type": "code",
   "execution_count": 33,
   "metadata": {
    "scrolled": true
   },
   "outputs": [
    {
     "data": {
      "image/png": "[encoded data removed]",
      "text/plain": [
       "<Figure size 432x288 with 2 Axes>"
      ]
     },
     "metadata": {
      "needs_background": "light"
     },
     "output_type": "display_data"
    }
   ],
   "source": [
    "fig_dic='/Users/shiwuzhang/WS/ASTRO/MAMMOTH_KCWI/draft_code/paper/ApJtemplate/figs/'\n",
    "dec_map,ra_map=np.meshgrid(delta_dec,delta_ra)\n",
    "fig,ax=plt.subplots(1,1)\n",
    "#plot image and contour\n",
    "img=ax.pcolormesh(ra_map[::-1,:].T,dec_map.T,np.log10(smoothed_img_flux),\n",
    "                  cmap='gnuplot',vmax=np.log10(smoothed_img_flux).max()*1.005,vmin=-20)\n",
    "contour=ax.contour(ra_map[::-1,:].T,dec_map.T,img_snr,levels=[4])\n",
    "ax.invert_xaxis()\n",
    "ax.set_xlabel(r'$\\rm \\Delta \\ RA \\ (arcsec)$',fontsize=12)\n",
    "ax.set_ylabel(r'$\\rm \\Delta \\ DEC \\ (arcsec)$',fontsize=12)\n",
    "ax.set_title(r'H$\\alpha$')\n",
    "#add colorbar\n",
    "cbar=plt.colorbar(img)\n",
    "cbar.ax.set_ylabel(r'log( H$\\alpha$ [erg s$^{-1}$ cm$^{-2}$] )',fontsize=12)\n",
    "#add sources\n",
    "for i in range(4):\n",
    "    ax.scatter(delta_sources[i,0],delta_sources[i,1],marker='*',color='snow',s=80)\n",
    "for i in range(4,delta_sources.shape[0]):\n",
    "    ax.scatter(delta_sources[i,0],delta_sources[i,1],marker='+',color='snow',s=80)\n",
    "for i in range(len(source_name)):\n",
    "    ax.annotate(source_name[i],xy=(delta_source_name_coor[i,0],delta_source_name_coor[i,1]),\n",
    "                xytext=(-5,5),textcoords=\"offset points\",color='snow')\n",
    "\n",
    "#add arrow\n",
    "arrow_line_dec=[dec_map.T[np.log10(smoothed_img_flux)>-20].min(),\n",
    "                dec_map.T[np.log10(smoothed_img_flux)>-20].max()]\n",
    "arrow_line_ra=[ra_map[::-1,:].T[np.log10(smoothed_img_flux)>-20].min(),\n",
    "               ra_map[::-1,:].T[np.log10(smoothed_img_flux)>-20].max()]\n",
    "ax.vlines(x=11,ymin=arrow_line_dec[0],ymax=arrow_line_dec[1],lw=2,color='snow')\n",
    "ax.hlines(y=-10,xmin=arrow_line_ra[0],xmax=arrow_line_ra[1],lw=2,color='snow')\n",
    "ax.text(14,5,'121 kpc',color='snow',fontsize=10,rotation=90)\n",
    "ax.text(0,-13,'143 kpc',color='snow',fontsize=10)\n",
    "\n",
    "ax.set_aspect('equal', adjustable='box')\n",
    "\n",
    "fig_dic='/Users/shiwuzhang/WS/ASTRO/MAMMOTH_KCWI/draft_code/paper/ApJtemplate/figs/'\n",
    "# plt.savefig(fig_dic+'H_alpha.png',dpi=300)\n",
    "plt.show()"
   ]
  },
  {
   "cell_type": "code",
   "execution_count": 34,
   "metadata": {},
   "outputs": [
    {
     "ename": "NameError",
     "evalue": "name 'hudl' is not defined",
     "output_type": "error",
     "traceback": [
      "\u001b[0;31m---------------------------------------------------------------------------\u001b[0m",
      "\u001b[0;31mNameError\u001b[0m                                 Traceback (most recent call last)",
      "\u001b[0;32m<ipython-input-34-fa5bd438383a>\u001b[0m in \u001b[0;36m<module>\u001b[0;34m\u001b[0m\n\u001b[1;32m      3\u001b[0m \u001b[0mhdu\u001b[0m\u001b[0;34m=\u001b[0m\u001b[0mfits\u001b[0m\u001b[0;34m.\u001b[0m\u001b[0mPrimaryHDU\u001b[0m\u001b[0;34m(\u001b[0m\u001b[0mdata\u001b[0m\u001b[0;34m=\u001b[0m\u001b[0mimg_snr\u001b[0m\u001b[0;34m,\u001b[0m\u001b[0mheader\u001b[0m\u001b[0;34m=\u001b[0m\u001b[0mh_alpha_fits\u001b[0m\u001b[0;34m[\u001b[0m\u001b[0;36m0\u001b[0m\u001b[0;34m]\u001b[0m\u001b[0;34m.\u001b[0m\u001b[0mheader\u001b[0m\u001b[0;34m)\u001b[0m\u001b[0;34m\u001b[0m\u001b[0m\n\u001b[1;32m      4\u001b[0m \u001b[0mhdul\u001b[0m\u001b[0;34m=\u001b[0m\u001b[0mfits\u001b[0m\u001b[0;34m.\u001b[0m\u001b[0mHDUList\u001b[0m\u001b[0;34m(\u001b[0m\u001b[0;34m[\u001b[0m\u001b[0mhdu\u001b[0m\u001b[0;34m]\u001b[0m\u001b[0;34m)\u001b[0m\u001b[0;34m\u001b[0m\u001b[0m\n\u001b[0;32m----> 5\u001b[0;31m \u001b[0mhudl\u001b[0m\u001b[0;34m.\u001b[0m\u001b[0mwriteto\u001b[0m\u001b[0;34m(\u001b[0m\u001b[0;34m)\u001b[0m\u001b[0;34m\u001b[0m\u001b[0m\n\u001b[0m",
      "\u001b[0;31mNameError\u001b[0m: name 'hudl' is not defined"
     ]
    }
   ],
   "source": [
    "# save snr map as .fits for contour plot\n",
    "result_dic='/Users/shiwuzhang/WS/ASTRO/MAMMOTH_KCWI/analysis results/'\n",
    "hdu=fits.PrimaryHDU(data=img_snr,header=h_alpha_fits[0].header)\n",
    "hdul=fits.HDUList([hdu])\n",
    "hdul.writeto()"
   ]
  },
  {
   "cell_type": "code",
   "execution_count": null,
   "metadata": {},
   "outputs": [],
   "source": []
  }
 ],
 "metadata": {
  "kernelspec": {
   "display_name": "Python 3",
   "language": "python",
   "name": "python3"
  },
  "language_info": {
   "codemirror_mode": {
    "name": "ipython",
    "version": 3
   },
   "file_extension": ".py",
   "mimetype": "text/x-python",
   "name": "python",
   "nbconvert_exporter": "python",
   "pygments_lexer": "ipython3",
   "version": "3.7.0"
  }
 },
 "nbformat": 4,
 "nbformat_minor": 2
}
