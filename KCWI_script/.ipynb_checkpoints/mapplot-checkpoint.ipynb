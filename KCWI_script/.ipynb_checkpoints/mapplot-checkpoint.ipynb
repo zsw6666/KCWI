{
 "cells": [
  {
   "cell_type": "code",
   "execution_count": 2,
   "metadata": {},
   "outputs": [],
   "source": [
    "import numpy as np\n",
    "from matplotlib import pyplot as plt\n",
    "from matplotlib import colors"
   ]
  },
  {
   "cell_type": "code",
   "execution_count": 12,
   "metadata": {},
   "outputs": [],
   "source": [
    "lydir='/Users/shiwuzhang/WS/ASTRO/MAMMOTH_KCWI/analysis results/newresults/ly/'\n",
    "lynames={'x':'lyx','y':'lyy','img':'lyimg.out','velocity':'lyvelo.out',\n",
    "         'dispersion':'lydisp.out','snr':'lysnr.out'}\n",
    "heiidir='/Users/shiwuzhang/WS/ASTRO/MAMMOTH_KCWI/analysis results/newresults/heii/'\n",
    "heiinames={'x':'heiix','y':'heiiy','img':'heiiimg.out','velocity':'heiivelo.out',\n",
    "         'dispersion':'heiidisp.out','snr':'heiisnr.out'}\n",
    "civdir='/Users/shiwuzhang/WS/ASTRO/MAMMOTH_KCWI/analysis results/newresults/civ/'\n",
    "civnames={'x':'civx','y':'civy','img':'civimg.out','velocity':'civvelo.out',\n",
    "         'dispersion':'civdisp.out','snr':'civsnr.out'}"
   ]
  },
  {
   "cell_type": "code",
   "execution_count": 13,
   "metadata": {},
   "outputs": [],
   "source": [
    "class MAP:\n",
    "    def __init__(self,location,names,x,y):\n",
    "        self.x=np.genfromtxt(location+names['x'],delimiter=',')\n",
    "        self.y=np.genfromtxt(location+names['y'],delimiter=',')\n",
    "        self.img=np.genfromtxt(location+names['img'],delimiter=',')\n",
    "        self.velo=np.genfromtxt(location+names['velocity'],delimiter=',')\n",
    "        self.disp=np.genfromtxt(location+names['dispersion'],delimiter=',')\n",
    "        self.snr=np.genfromtxt(location+names['snr'],delimiter=',')\n",
    "        self.map=[self.img,self.velo,self.disp,self.snr]\n",
    "    def plot(self,AX):\n",
    "        '''\n",
    "        AX should be an array with 3 cells,\n",
    "        each cell is an axes\n",
    "        '''\n",
    "        AX[0].contour(self.x,self.y,self.self.snr,levels=[3,11,19,31,43])\n",
    "        AX[0].contourf(self.x,self.y,self.img,cmap='Spectral_r',levels=30)\n",
    "        AX[1].contourf(self.x,self.y,self.velo,cmap='RdYlBu_r',levels=30)\n",
    "        AX[2].contourf(self.x,self.y,self.disp,cmap='RdYlBu_r',levels=30)"
   ]
  },
  {
   "cell_type": "code",
   "execution_count": 9,
   "metadata": {},
   "outputs": [],
   "source": [
    "lymap=MAP(lydir,lynames)\n",
    "heiimap=MAP(heiidir,heiinames)\n",
    "civmap=MAP(civdir,civnames)"
   ]
  },
  {
   "cell_type": "code",
   "execution_count": null,
   "metadata": {},
   "outputs": [],
   "source": [
    "fig,AX=plt.subplots(3,3)\n",
    "AX=AX.flatten()\n",
    "axly=AX[:3]\n",
    "axheii=AX[3:6]\n",
    "axciv=AX[6:]"
   ]
  }
 ],
 "metadata": {
  "kernelspec": {
   "display_name": "Python 3",
   "language": "python",
   "name": "python3"
  },
  "language_info": {
   "codemirror_mode": {
    "name": "ipython",
    "version": 3
   },
   "file_extension": ".py",
   "mimetype": "text/x-python",
   "name": "python",
   "nbconvert_exporter": "python",
   "pygments_lexer": "ipython3",
   "version": "3.7.0"
  }
 },
 "nbformat": 4,
 "nbformat_minor": 2
}
