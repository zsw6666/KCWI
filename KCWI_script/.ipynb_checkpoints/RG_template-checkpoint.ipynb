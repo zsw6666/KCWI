{
 "cells": [
  {
   "cell_type": "code",
   "execution_count": 4,
   "metadata": {},
   "outputs": [],
   "source": [
    "import numpy as np\n",
    "import matplotlib.pyplot as plt\n",
    "from scipy.signal import find_peaks"
   ]
  },
  {
   "cell_type": "code",
   "execution_count": 5,
   "metadata": {},
   "outputs": [],
   "source": [
    "dic='/Users/shiwuzhang/WS/ASTRO/MAMMOTH_KCWI/'\n",
    "rg_sed=np.genfromtxt(dic+'RG_sed.txt')\n",
    "rg_catalog=np.genfromtxt(dic+'RG_catalog.txt')\n",
    "ind=rg_sed[:,0]\n",
    "wave=rg_sed[:,1]\n",
    "flux=rg_sed[:,2]"
   ]
  },
  {
   "cell_type": "code",
   "execution_count": 16,
   "metadata": {},
   "outputs": [],
   "source": [
    "def sed_split(ind_arr,wave,flux):\n",
    "    '''\n",
    "    split the sed in one array in to individuals and \n",
    "    return wavelength list and flux list\n",
    "    '''\n",
    "    \n",
    "    wave_list,flux_list,id_list=[],[],[]\n",
    "    ind=np.unique(ind_arr)\n",
    "    for i in ind:\n",
    "        wave_list.append(wave[ind_arr==i])\n",
    "        flux_list.append(flux[ind_arr==i])\n",
    "        id_list.append(i)\n",
    "    \n",
    "    return wave_list, flux_list,id_list\n",
    "\n",
    "def redshift_correction(wave_list,id_list,rg_catalog):\n",
    "    '''\n",
    "    shift the sed to rest frame\n",
    "    return shifted wavelength, rg_catalog\n",
    "    is the catalog of sources including\n",
    "    redshift of sources\n",
    "    '''\n",
    "    for i in range(id_list.shape[0]):\n",
    "        \n",
    "\n",
    "def normalized(wave,flux,wave0,delta=0.5):\n",
    "    '''\n",
    "    normalize flux with a flux of wave0,\n",
    "    delta is the interval size used to locate\n",
    "    wave0. \n",
    "    return normalized flux array\n",
    "    '''\n",
    "    \n",
    "    for i in range(wave.shape[0]):\n",
    "        \n",
    "        flux[i]=flux[i]/flux[i,np.abs(wave[i]-100)<.5][0]\n",
    "        \n",
    "    return flux\n",
    "    "
   ]
  },
  {
   "cell_type": "code",
   "execution_count": 19,
   "metadata": {},
   "outputs": [],
   "source": [
    "wave_list,flux_list,id_list=sed_split(ind,wave,flux)\n",
    "wave_list,flux_list,id_list=np.array(wave_list),np.array(flux_list),np.array(id_list)\n",
    "wave_list,flux_list=wave_list[:,500:],flux_list[:,500:]"
   ]
  },
  {
   "cell_type": "code",
   "execution_count": null,
   "metadata": {},
   "outputs": [],
   "source": [
    "#normalize flux\n",
    "flux_list=normalized(wave_list,flux_list,100)"
   ]
  },
  {
   "cell_type": "code",
   "execution_count": null,
   "metadata": {},
   "outputs": [],
   "source": [
    "flux_rg_template=flux_list.mean(axis=0)\n",
    "wave_rg_template=wave_list.mean(axis=0)"
   ]
  },
  {
   "cell_type": "code",
   "execution_count": null,
   "metadata": {},
   "outputs": [],
   "source": [
    "rg_sed_template=np.vstack([wave_rg_template,flux_rg_template]).T"
   ]
  },
  {
   "cell_type": "code",
   "execution_count": null,
   "metadata": {},
   "outputs": [],
   "source": [
    "dicf='/Users/shiwuzhang/WS/ASTRO/MAMMOTH_KCWI/'\n",
    "np.savetxt(dicf+'rg_sed_template.txt',rg_sed_template,fmt='%10.15f')"
   ]
  }
 ],
 "metadata": {
  "kernelspec": {
   "display_name": "Python 3",
   "language": "python",
   "name": "python3"
  },
  "language_info": {
   "codemirror_mode": {
    "name": "ipython",
    "version": 3
   },
   "file_extension": ".py",
   "mimetype": "text/x-python",
   "name": "python",
   "nbconvert_exporter": "python",
   "pygments_lexer": "ipython3",
   "version": "3.7.0"
  }
 },
 "nbformat": 4,
 "nbformat_minor": 2
}
