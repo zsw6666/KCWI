{
 "cells": [
  {
   "cell_type": "code",
   "execution_count": 1,
   "metadata": {},
   "outputs": [],
   "source": [
    "import numpy as np\n",
    "import matplotlib.pyplot as plt\n",
    "import astropy.constants as const\n",
    "import astropy.units as u\n",
    "from astropy.io import fits\n",
    "from astropy.wcs import WCS\n",
    "from astropy.convolution import convolve,Gaussian2DKernel\n",
    "from matplotlib import colors"
   ]
  },
  {
   "cell_type": "code",
   "execution_count": 2,
   "metadata": {},
   "outputs": [],
   "source": [
    "def count2flux(img_count,replacer=1e-10,mag_const=24.37,\n",
    "               lamda=6563,delta_lamda=250,z=2.3):\n",
    "    '''\n",
    "    convert counts map to flux map.\n",
    "    lamda and delta_lamda in unit of \\AA\n",
    "    '''\n",
    "    #replace negtive value with positive\n",
    "    img_count[img_count<=0]=replacer\n",
    "    \n",
    "    mag=-2.5*np.log10(img_count)+mag_const\n",
    "    flux_nu=10**(-(mag+48.6)/2.5)\n",
    "    flux_lamda=flux_nu*const.c.to(u.AA/u.second).value/((lamda*(1+z))**2)\n",
    "    flux=flux_lamda*delta_lamda*u.erg/(u.second*(u.cm**2))\n",
    "    \n",
    "    return flux\n",
    "\n",
    "def pix2world(shape,delta,origin_pix,origin_world):\n",
    "    '''\n",
    "    convert pixel coordinate to\n",
    "    ra,dec, origin_pix and origin_world\n",
    "    is the coordinate of origin in \n",
    "    different frame. They are both 1-d\n",
    "    array with two elements\n",
    "    return two 1-d arrays of ra and \n",
    "    dec respectively\n",
    "    '''\n",
    "    \n",
    "    x,y=np.arange(shape[1]),np.arange(shape[0])\n",
    "    X,Y=np.meshgrid(x,y)\n",
    "    ra_map=(origin_pix[0]-X)*delta[0]+origin_world[0]\n",
    "    dec_map=(origin_pix[1]-Y)*delta[1]+origin_world[1]\n",
    "    \n",
    "    return ra_map.mean(axis=0), dec_map.mean(axis=1)"
   ]
  },
  {
   "cell_type": "code",
   "execution_count": 3,
   "metadata": {},
   "outputs": [],
   "source": [
    "dic='/Users/shiwuzhang/WS/ASTRO/MAMMOTH_KCWI/results/'\n",
    "ly_fits=fits.open(dic+'MAMMOTH-1_cut.fits')\n",
    "h_fits=fits.open(dic+'MORICS_geotran_cut.fits')"
   ]
  },
  {
   "cell_type": "code",
   "execution_count": 4,
   "metadata": {},
   "outputs": [],
   "source": [
    "img_flux_h=count2flux(h_fits[0].data)\n",
    "img_flux_ly=count2flux(ly_fits[0].data,mag_const=22.05,\n",
    "                       lamda=1216,delta_lamda=45)"
   ]
  },
  {
   "cell_type": "markdown",
   "metadata": {},
   "source": [
    "smooth the data use a gaussian kernel with size of 12 and standard deviation of 3 corresponding to radius of 1.4\""
   ]
  },
  {
   "cell_type": "code",
   "execution_count": 5,
   "metadata": {},
   "outputs": [],
   "source": [
    "kernel=Gaussian2DKernel(x_stddev=3,y_stddev=3,x_size=13,y_size=13)\n",
    "smoothed_img_flux_h=convolve(img_flux_h.value,kernel)\n",
    "smoothed_img_flux_ly=convolve(img_flux_ly.value,kernel)"
   ]
  },
  {
   "cell_type": "markdown",
   "metadata": {},
   "source": [
    "select a region to estimate the noise and construct the SNR map. H$\\rm \\alpha$ 50:80,50:80; Ly$\\rm \\alpha$ 50:100,50:100"
   ]
  },
  {
   "cell_type": "code",
   "execution_count": 6,
   "metadata": {},
   "outputs": [],
   "source": [
    "# I also use calculate the standard deviation of different aperture, the results is similar to this\n",
    "noise_h=smoothed_img_flux_h[50:100,50:100].std()\n",
    "noise_ly=smoothed_img_flux_ly[50:100,50:100].std()\n",
    "\n",
    "img_snr_h=smoothed_img_flux_h/noise_h\n",
    "img_snr_ly=smoothed_img_flux_ly/noise_ly"
   ]
  },
  {
   "cell_type": "markdown",
   "metadata": {},
   "source": [
    "remove noise"
   ]
  },
  {
   "cell_type": "code",
   "execution_count": 23,
   "metadata": {},
   "outputs": [],
   "source": [
    "img_h=smoothed_img_flux_h.copy()\n",
    "img_ly=smoothed_img_flux_ly.copy()\n",
    "\n",
    "img_h[img_snr_h<6]=0\n",
    "img_ly[img_snr_ly<10]=0"
   ]
  },
  {
   "cell_type": "code",
   "execution_count": 123,
   "metadata": {},
   "outputs": [],
   "source": [
    "img_h[:125,:]=0\n",
    "img_h[175:,:]=0\n",
    "img_h[:,:120]=0\n",
    "img_h[:,200:]=0\n",
    "img_h[175:,175:]=0"
   ]
  },
  {
   "cell_type": "code",
   "execution_count": 124,
   "metadata": {},
   "outputs": [
    {
     "data": {
      "image/png": "[encoded data removed]",
      "text/plain": [
       "<Figure size 432x288 with 1 Axes>"
      ]
     },
     "metadata": {
      "needs_background": "light"
     },
     "output_type": "display_data"
    }
   ],
   "source": [
    "plt.imshow(img_h,cmap='gnuplot')\n",
    "plt.show()"
   ]
  },
  {
   "cell_type": "markdown",
   "metadata": {},
   "source": [
    "calculate the ratio map"
   ]
  },
  {
   "cell_type": "code",
   "execution_count": 91,
   "metadata": {},
   "outputs": [],
   "source": [
    "img_ly[img_ly==0]=1.\n",
    "img_ratio=img_h/img_ly\n",
    "img_ratio=img_ratio[50:-50,60:-60]"
   ]
  },
  {
   "cell_type": "markdown",
   "metadata": {},
   "source": [
    "convert physical coordinate to ra,dec"
   ]
  },
  {
   "cell_type": "code",
   "execution_count": 117,
   "metadata": {},
   "outputs": [],
   "source": [
    "delta=[7.107805249e-05,7.199198278e-05]\n",
    "origin_pix=[122-50,150-60]\n",
    "origin_world=[220.352093,40.0526795]\n",
    "ra,dec=pix2world(img_ratio.shape,delta,origin_pix,origin_world)\n",
    "delta_ra=(ra-origin_world[0])*u.deg.to(u.arcsecond)\n",
    "delta_dec=(dec-origin_world[1])*u.deg.to(u.arcsecond)"
   ]
  },
  {
   "cell_type": "code",
   "execution_count": 118,
   "metadata": {},
   "outputs": [],
   "source": [
    "sources_list=np.array([[220.3517351,40.05269063],\n",
    "                       [220.3521004,40.05267509],\n",
    "                       [220.3519736,40.05221132],\n",
    "                       [220.3520722,40.05297709],\n",
    "                       \n",
    "                       [220.3531717,40.05223288],\n",
    "                       [220.3497255,40.05104434],\n",
    "                       [220.3492992,40.05225575],\n",
    "                       [220.3499296,40.05351636],\n",
    "                       [220.3525,40.0545]])*u.deg\n",
    "sources_list[:,0]=sources_list[:,0]-0.0002*u.deg\n",
    "source_name=['source-B','G-3','G-4','G-6','G-5','G-1']\n",
    "source_name_coor=np.array([[220.3520722,40.05297709],[220.3531717,40.05223288],\n",
    "                           [220.3497255,40.05104434],[220.3492992,40.05225575],\n",
    "                           [220.3499296,40.05351636],[220.3525,40.0545]])*u.deg\n",
    "delta_sources=(sources_list-origin_world*u.deg).to(u.arcsec).value\n",
    "delta_source_name_coor=(source_name_coor-origin_world*u.deg).to(u.arcsec).value"
   ]
  },
  {
   "cell_type": "code",
   "execution_count": 119,
   "metadata": {},
   "outputs": [
    {
     "data": {
      "image/png": "[encoded data removed]",
      "text/plain": [
       "<Figure size 432x288 with 2 Axes>"
      ]
     },
     "metadata": {
      "needs_background": "light"
     },
     "output_type": "display_data"
    }
   ],
   "source": [
    "fig_dic='/Users/shiwuzhang/WS/ASTRO/MAMMOTH_KCWI/draft_code/paper/ApJtemplate/figs/'\n",
    "dec_map,ra_map=np.meshgrid(delta_dec,delta_ra)\n",
    "fig,ax=plt.subplots(1,1)\n",
    "#plot image and contour\n",
    "img=ax.pcolormesh(ra_map.T,dec_map.T,img_ratio[::-1,:],\n",
    "                  cmap='gnuplot')\n",
    "ax.invert_xaxis()\n",
    "ax.set_xlabel(r'$\\rm \\Delta \\ RA \\ (arcsec)$',fontsize=12)\n",
    "ax.set_ylabel(r'$\\rm \\Delta \\ DEC \\ (arcsec)$',fontsize=12)\n",
    "ax.set_title('Ratio')\n",
    "#add colorbar\n",
    "cbar=plt.colorbar(img)\n",
    "cbar.ax.set_ylabel(r'log( H$\\alpha$ / Ly$\\alpha$ )',fontsize=12)\n",
    "#add sources\n",
    "for i in range(4):\n",
    "    ax.scatter(delta_sources[i,0],delta_sources[i,1],marker='*',color='snow',s=80)\n",
    "for i in range(4,delta_sources.shape[0]):\n",
    "    ax.scatter(delta_sources[i,0],delta_sources[i,1],marker='+',color='snow',s=80)\n",
    "for i in range(len(source_name)):\n",
    "    ax.annotate(source_name[i],xy=(delta_source_name_coor[i,0],delta_source_name_coor[i,1]),\n",
    "                xytext=(-5,5),textcoords=\"offset points\",color='snow')\n",
    "\n",
    "ax.set_aspect('equal', adjustable='box')\n",
    "\n",
    "fig_dic='/Users/shiwuzhang/WS/ASTRO/MAMMOTH_KCWI/draft_code/paper/ApJtemplate/figs/'\n",
    "plt.savefig(fig_dic+'H_alpha_ly_alpha_ratio.png',dpi=300)\n",
    "# plt.show()"
   ]
  },
  {
   "cell_type": "code",
   "execution_count": null,
   "metadata": {},
   "outputs": [],
   "source": []
  }
 ],
 "metadata": {
  "kernelspec": {
   "display_name": "Python 3",
   "language": "python",
   "name": "python3"
  },
  "language_info": {
   "codemirror_mode": {
    "name": "ipython",
    "version": 3
   },
   "file_extension": ".py",
   "mimetype": "text/x-python",
   "name": "python",
   "nbconvert_exporter": "python",
   "pygments_lexer": "ipython3",
   "version": "3.7.0"
  }
 },
 "nbformat": 4,
 "nbformat_minor": 2
}
