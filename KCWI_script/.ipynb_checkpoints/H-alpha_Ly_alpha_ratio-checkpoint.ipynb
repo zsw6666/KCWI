{
 "cells": [
  {
   "cell_type": "code",
   "execution_count": 2,
   "metadata": {},
   "outputs": [],
   "source": [
    "import numpy as np\n",
    "import matplotlib.pyplot as plt\n",
    "import astropy.constants as const\n",
    "import astropy.units as u\n",
    "from astropy.io import fits\n",
    "from astropy.wcs import WCS\n",
    "from astropy.convolution import convolve,Gaussian2DKernel\n",
    "from matplotlib import colors\n",
    "from matplotlib import rcParams\n",
    "\n",
    "#set the default plot parameter\n",
    "plt_param={'font.family':'serif',\n",
    "           'font.serif':'Times New Roman',\n",
    "           'lines.linewidth':.8,\n",
    "           'xtick.labelsize':12,\n",
    "           'ytick.labelsize':12,\n",
    "           'axes.labelsize':16,\n",
    "           'xtick.direction':'in',\n",
    "           'ytick.direction':'in',\n",
    "           'font.style':'italic',\n",
    "           'font.weight':'normal',\n",
    "           'figure.figsize':[5,5],'xtick.minor.visible':True,\n",
    "           'ytick.minor.visible':True,\n",
    "           'xtick.major.size':4,\n",
    "           'ytick.major.size':4,\n",
    "           'xtick.minor.size':2,\n",
    "           'ytick.minor.size':2,\n",
    "           'xtick.major.width':.8,\n",
    "           'ytick.major.width':.8,\n",
    "           'xtick.top':True,\n",
    "           'ytick.right':True,\n",
    "           'axes.spines.bottom':True,\n",
    "           'axes.spines.top':True,\n",
    "           'axes.spines.left':True,\n",
    "           'axes.spines.right':True,\n",
    "           'xtick.bottom':True,\n",
    "           'xtick.labelbottom':True,\n",
    "           'ytick.left':True,\n",
    "           'ytick.labelleft':True}\n",
    "rcParams.update(plt_param)"
   ]
  },
  {
   "cell_type": "code",
   "execution_count": 3,
   "metadata": {},
   "outputs": [],
   "source": [
    "def pix2world(shape,delta,origin_pix,origin_world):\n",
    "    '''\n",
    "    convert pixel coordinate to\n",
    "    ra,dec, origin_pix and origin_world\n",
    "    is the coordinate of origin in \n",
    "    different frame. They are both 1-d\n",
    "    array with two elements\n",
    "    return two 1-d arrays of ra and \n",
    "    dec respectively\n",
    "    '''\n",
    "    \n",
    "    x,y=np.arange(shape[0]),np.arange(shape[1])\n",
    "    X,Y=np.meshgrid(x,y)\n",
    "    ra_map=(X-origin_pix[0])*delta[0]+origin_world[0]\n",
    "    dec_map=(Y-origin_pix[1])*delta[1]+origin_world[1]\n",
    "    \n",
    "    return ra_map.mean(axis=0), dec_map.mean(axis=1)\n",
    "    \n",
    "def smooth(img, xsigma,ysigma,xsize,ysize):\n",
    "    '''\n",
    "    smooth the image\n",
    "    '''\n",
    "    #create the smooth kernel\n",
    "    kernel=Gaussian2DKernel(x_stddev=xsigma,y_stddev=ysigma,\n",
    "                            x_size=xsize,y_size=ysize)\n",
    "    img_smoothed=convolve(img,kernel)\n",
    "    \n",
    "    return img_smoothed"
   ]
  },
  {
   "cell_type": "markdown",
   "metadata": {},
   "source": [
    "read SNR map of Ly$\\rm \\alpha$ emission and the contour on H$\\rm \\alpha$ emission"
   ]
  },
  {
   "cell_type": "code",
   "execution_count": 4,
   "metadata": {},
   "outputs": [],
   "source": [
    "# read the smoothed ratio map\n",
    "dic='/Users/shiwuzhang/WS/ASTRO/MAMMOTH_KCWI/results/'\n",
    "ratio_fits=fits.open(dic+'mammoth_smo_ratio2.fits')\n",
    "ratio_map=ratio_fits[0].data"
   ]
  },
  {
   "cell_type": "code",
   "execution_count": 5,
   "metadata": {},
   "outputs": [],
   "source": [
    "img=ratio_map[90:-80,50:-50].copy()\n",
    "img[img>2.5]=0"
   ]
  },
  {
   "cell_type": "code",
   "execution_count": 6,
   "metadata": {},
   "outputs": [],
   "source": [
    "# calculate ra and dec map\n",
    "delta=[6.864583279e-05,7.077716112e-05]\n",
    "origin_pix=[142,145]\n",
    "origin_world=[220.3520935,40.05268459]\n",
    "ra,dec=pix2world(ratio_map.shape,delta,origin_pix,origin_world)\n",
    "delta_ra=(ra-origin_world[0])*u.deg.to(u.arcsecond)\n",
    "delta_dec=(dec-origin_world[1])*u.deg.to(u.arcsecond)"
   ]
  },
  {
   "cell_type": "code",
   "execution_count": 7,
   "metadata": {},
   "outputs": [],
   "source": [
    "sources=np.array([[40.052625, 220.3519792], [40.05221366, 220.3519858],\n",
    "                  [40.05297755, 220.3520401], [40.05222735, 220.3493004],\n",
    "                  [40.0542892, 220.3529902], [40.05224151, 220.3531833],\n",
    "                  [40.0535024, 220.349928],[40.05106072, 220.3497904]])*u.deg\n",
    "delta_sources=(sources-origin_world[::-1]*u.deg).to(u.arcsec).value"
   ]
  },
  {
   "cell_type": "code",
   "execution_count": 8,
   "metadata": {},
   "outputs": [],
   "source": [
    "# cut image\n",
    "ratio_map=ratio_map[50:-50,80:-80]\n",
    "delta_ra,delta_dec=delta_ra[80:-80],delta_dec[50:-50]"
   ]
  },
  {
   "cell_type": "code",
   "execution_count": 12,
   "metadata": {},
   "outputs": [
    {
     "data": {
      "text/plain": [
       "0.31391662"
      ]
     },
     "execution_count": 12,
     "metadata": {},
     "output_type": "execute_result"
    }
   ],
   "source": [
    "k=ratio_map[ratio_map>0]\n",
    "k.mean()"
   ]
  },
  {
   "cell_type": "code",
   "execution_count": 128,
   "metadata": {},
   "outputs": [
    {
     "data": {
      "image/png": "[encoded data removed]",
      "text/plain": [
       "<Figure size 360x360 with 2 Axes>"
      ]
     },
     "metadata": {
      "needs_background": "light"
     },
     "output_type": "display_data"
    }
   ],
   "source": [
    "# plot the ratio map\n",
    "fig_dic='/Users/shiwuzhang/WS/ASTRO/MAMMOTH_KCWI/draft_code/paper/ApJtemplate/figs/'\n",
    "ratio_map+=1e-5\n",
    "ra_map,dec_map=np.meshgrid(delta_ra,delta_dec)\n",
    "fig,ax=plt.subplots(1,1)\n",
    "img=ax.contourf(ra_map.T,dec_map.T,np.log10(ratio_map.T),\n",
    "                cmap='Spectral_r',levels=20)\n",
    "ax.scatter(-delta_sources[3:,1],delta_sources[3:,0],\n",
    "           marker='+',color='black',s=60.)\n",
    "ax.scatter(-delta_sources[:3,1],delta_sources[:3,0],\n",
    "           marker='*',color='black',s=60.)\n",
    "ax.text(-delta_sources[0,1]+1,delta_sources[0,0]-1,\n",
    "        'Source-B',fontsize=10,weight='heavy')\n",
    "label=['G-6','G-1','G-3','G-5','G-4']\n",
    "for i in range(3,8):\n",
    "    ax.text(-delta_sources[i,1]+1,delta_sources[i,0]-1,\n",
    "        label[i-3],fontsize=10,weight='heavy')\n",
    "ax.set_xlabel(r'$\\rm \\Delta DEC \\ (arcsec)$')\n",
    "ax.set_ylabel(r'$\\rm \\Delta RA \\ (arcsec)$')\n",
    "ax.set_title(r'$\\rm H\\alpha/Ly\\alpha \\ ratio  \\ map$')\n",
    "ax.set_aspect('equal')\n",
    "cbar=plt.colorbar(img)\n",
    "cbar.ax.set_ylabel(r'$\\rm log(H\\alpha/Ly\\alpha)$')\n",
    "plt.savefig(fig_dic+'H_alpha_ly_alpha_ratio.png',dpi=300)\n",
    "# plt.show()"
   ]
  }
 ],
 "metadata": {
  "kernelspec": {
   "display_name": "Python 3",
   "language": "python",
   "name": "python3"
  },
  "language_info": {
   "codemirror_mode": {
    "name": "ipython",
    "version": 3
   },
   "file_extension": ".py",
   "mimetype": "text/x-python",
   "name": "python",
   "nbconvert_exporter": "python",
   "pygments_lexer": "ipython3",
   "version": "3.7.0"
  }
 },
 "nbformat": 4,
 "nbformat_minor": 2
}
