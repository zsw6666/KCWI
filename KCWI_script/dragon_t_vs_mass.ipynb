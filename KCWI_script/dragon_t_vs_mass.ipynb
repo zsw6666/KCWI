{
 "cells": [
  {
   "cell_type": "code",
   "execution_count": 1,
   "metadata": {},
   "outputs": [],
   "source": [
    "import numpy as np\n",
    "import matplotlib.pyplot as plt\n",
    "from matplotlib import rcParams\n",
    "from scipy.optimize import curve_fit\n",
    "\n",
    "#set the default plot parameter\n",
    "plt_param={'font.family':'serif',\n",
    "           'font.serif':'Times New Roman',\n",
    "           'lines.linewidth':1,\n",
    "           'xtick.labelsize':12,\n",
    "           'ytick.labelsize':12,\n",
    "           'axes.labelsize':16,\n",
    "           'xtick.direction':'in',\n",
    "           'ytick.direction':'in',\n",
    "           'font.style':'italic',\n",
    "           'font.weight':'normal',\n",
    "           'figure.figsize':[5,5],'xtick.minor.visible':True,\n",
    "           'ytick.minor.visible':True,\n",
    "           'xtick.major.size':4,\n",
    "           'ytick.major.size':4,\n",
    "           'xtick.minor.size':2,\n",
    "           'ytick.minor.size':2,\n",
    "           'xtick.major.width':.8,\n",
    "           'ytick.major.width':.8,\n",
    "           'xtick.top':True,\n",
    "           'ytick.right':True,\n",
    "           'axes.spines.bottom':True,\n",
    "           'axes.spines.top':True,\n",
    "           'axes.spines.left':True,\n",
    "           'axes.spines.right':True,\n",
    "           'xtick.bottom':True,\n",
    "           'xtick.labelbottom':True,\n",
    "           'ytick.left':True,\n",
    "           'ytick.labelleft':True}\n",
    "rcParams.update(plt_param)"
   ]
  },
  {
   "cell_type": "markdown",
   "metadata": {},
   "source": [
    " 定义拟合函数 \n",
    " $y=\\frac{a}{1+b\\dot e^{c\\dot (x+d)}}$"
   ]
  },
  {
   "cell_type": "code",
   "execution_count": 4,
   "metadata": {},
   "outputs": [],
   "source": [
    "def func(x,a,b,c,d):\n",
    "    \n",
    "    y=a/(1+b*np.exp(c*(x+d)))\n",
    "    \n",
    "    return y\n",
    "   "
   ]
  },
  {
   "cell_type": "markdown",
   "metadata": {},
   "source": [
    "带入观测量并进行函数拟合"
   ]
  },
  {
   "cell_type": "code",
   "execution_count": 5,
   "metadata": {},
   "outputs": [],
   "source": [
    "x=np.array([0,2,4,6])\n",
    "y=np.array([3234960,4032160,5135760,5107200])/5135760 #对自变量做归一化 方便拟合\n",
    "\n",
    "#参数拟合， popt是最佳拟合参数， pco是参数的不确定度\n",
    "popt,pco=curve_fit(func,x,y)"
   ]
  },
  {
   "cell_type": "code",
   "execution_count": 6,
   "metadata": {},
   "outputs": [
    {
     "data": {
      "text/plain": [
       "array([ 1.07174272,  1.36574502, -0.43757864,  1.42631433])"
      ]
     },
     "execution_count": 6,
     "metadata": {},
     "output_type": "execute_result"
    }
   ],
   "source": [
    "popt"
   ]
  },
  {
   "cell_type": "markdown",
   "metadata": {},
   "source": [
    "拟合参数如下：\n",
    "$a=1.07174272 \\cdot 5135760$, $b=1.36574502$, $c=-0.43757864$, $d=1.42631433$\n",
    "\n",
    "不确定度= fit parameter*0.1"
   ]
  },
  {
   "cell_type": "markdown",
   "metadata": {},
   "source": [
    "做拟合曲线"
   ]
  },
  {
   "cell_type": "code",
   "execution_count": 7,
   "metadata": {},
   "outputs": [],
   "source": [
    "x_fit=np.linspace(-10,10,1000)\n",
    "y_fit=func(x_fit,*popt)"
   ]
  },
  {
   "cell_type": "code",
   "execution_count": 13,
   "metadata": {},
   "outputs": [
    {
     "data": {
      "image/png": "[encoded data removed]",
      "text/plain": [
       "<Figure size 576x288 with 1 Axes>"
      ]
     },
     "metadata": {
      "needs_background": "light"
     },
     "output_type": "display_data"
    }
   ],
   "source": [
    "fig,ax=plt.subplots(1,1)\n",
    "ax.plot(x_fit,y_fit*5135760,label='fit curve',c='royalblue')\n",
    "ax.scatter(x,y*5135760,label='data',c='red')\n",
    "ax.grid()\n",
    "ax.set_xlabel('Age (year)')\n",
    "ax.set_ylabel('Mass (kg)')\n",
    "plt.legend()\n",
    "dic='/Users/shiwuzhang/'\n",
    "plt.rcParams['figure.figsize'] = [8, 4]\n",
    "plt.savefig(dic+'fit_curve.png',dpi=300)\n",
    "# plt.show()"
   ]
  },
  {
   "cell_type": "code",
   "execution_count": null,
   "metadata": {},
   "outputs": [],
   "source": []
  }
 ],
 "metadata": {
  "kernelspec": {
   "display_name": "Python 3",
   "language": "python",
   "name": "python3"
  },
  "language_info": {
   "codemirror_mode": {
    "name": "ipython",
    "version": 3
   },
   "file_extension": ".py",
   "mimetype": "text/x-python",
   "name": "python",
   "nbconvert_exporter": "python",
   "pygments_lexer": "ipython3",
   "version": "3.7.0"
  }
 },
 "nbformat": 4,
 "nbformat_minor": 2
}
