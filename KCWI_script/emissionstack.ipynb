{
 "cells": [
  {
   "cell_type": "code",
   "execution_count": 1,
   "metadata": {},
   "outputs": [],
   "source": [
    "import numpy as np\n",
    "from astropy.io import fits\n",
    "from matplotlib import pyplot as plt"
   ]
  },
  {
   "cell_type": "code",
   "execution_count": 4,
   "metadata": {},
   "outputs": [
    {
     "name": "stderr",
     "output_type": "stream",
     "text": [
      "WARNING: AstropyDeprecationWarning: astropy.extern.six will be removed in 4.0, use the six module directly if it is still needed [astropy.extern.six]\n",
      "WARNING: VerifyWarning: Invalid 'BLANK' keyword in header.  The 'BLANK' keyword is only applicable to integer data, and will be ignored in this HDU. [astropy.io.fits.hdu.image]\n",
      "WARNING: Could not parse unit FLAM16 [spectral_cube.cube_utils]\n",
      "WARNING: VerifyWarning: Invalid 'BLANK' keyword in header.  The 'BLANK' keyword is only applicable to integer data, and will be ignored in this HDU. [astropy.io.fits.hdu.image]\n",
      "WARNING: Could not parse unit FLAM16 [spectral_cube.cube_utils]\n",
      "WARNING: VerifyWarning: Invalid 'BLANK' keyword in header.  The 'BLANK' keyword is only applicable to integer data, and will be ignored in this HDU. [astropy.io.fits.hdu.image]\n",
      "WARNING: Could not parse unit FLAM16 [spectral_cube.cube_utils]\n",
      "WARNING: PossiblySlowWarning: This function (<function BaseSpectralCube.mean at 0x11bcb57b8>) requires loading the entire cube into memory and may therefore be slow. [spectral_cube.utils]\n",
      "WARNING: PossiblySlowWarning: This function (<function BaseSpectralCube.mean at 0x11bcb57b8>) requires loading the entire cube into memory and may therefore be slow. [spectral_cube.utils]\n",
      "WARNING: PossiblySlowWarning: This function (<function BaseSpectralCube.mean at 0x11bcb57b8>) requires loading the entire cube into memory and may therefore be slow. [spectral_cube.utils]\n",
      "WARNING: ExperimentalImplementationWarning: Support for air wavelengths is experimental and only works in the forward direction (air->vac, not vac->air). [spectral_cube.spectral_axis]\n",
      "/usr/local/lib/python3.7/site-packages/spectral_cube/_moments.py:169: RuntimeWarning: invalid value encountered in true_divide\n",
      "  np.nansum(data, axis=axis))\n",
      "WARNING: PossiblySlowWarning: This function (<function BaseSpectralCube.mean at 0x11bcb57b8>) requires loading the entire cube into memory and may therefore be slow. [spectral_cube.utils]\n",
      "WARNING: ExperimentalImplementationWarning: Support for air wavelengths is experimental and only works in the forward direction (air->vac, not vac->air). [spectral_cube.spectral_axis]\n",
      "WARNING: VarianceWarning: Note that the second moment returned will be a variance map. To get a linewidth map, use the SpectralCube.linewidth_fwhm() or SpectralCube.linewidth_sigma() methods instead. [spectral_cube.spectral_cube]\n",
      "/usr/local/lib/python3.7/site-packages/spectral_cube/_moments.py:169: RuntimeWarning: invalid value encountered in true_divide\n",
      "  np.nansum(data, axis=axis))\n",
      "/usr/local/lib/python3.7/site-packages/spectral_cube/_moments.py:179: RuntimeWarning: invalid value encountered in true_divide\n",
      "  np.nansum(data, axis=axis))\n",
      "/usr/local/lib/python3.7/site-packages/astropy/units/quantity.py:464: RuntimeWarning: invalid value encountered in power\n",
      "  result = super().__array_ufunc__(function, method, *arrays, **kwargs)\n",
      "WARNING: PossiblySlowWarning: This function (<function BaseSpectralCube.mean at 0x11bcb57b8>) requires loading the entire cube into memory and may therefore be slow. [spectral_cube.utils]\n",
      "WARNING: PossiblySlowWarning: This function (<function BaseSpectralCube.mean at 0x11bcb57b8>) requires loading the entire cube into memory and may therefore be slow. [spectral_cube.utils]\n",
      "WARNING: PossiblySlowWarning: This function (<function BaseSpectralCube.mean at 0x11bcb57b8>) requires loading the entire cube into memory and may therefore be slow. [spectral_cube.utils]\n",
      "WARNING: ExperimentalImplementationWarning: Support for air wavelengths is experimental and only works in the forward direction (air->vac, not vac->air). [spectral_cube.spectral_axis]\n",
      "/usr/local/lib/python3.7/site-packages/spectral_cube/_moments.py:169: RuntimeWarning: invalid value encountered in true_divide\n",
      "  np.nansum(data, axis=axis))\n",
      "WARNING: PossiblySlowWarning: This function (<function BaseSpectralCube.mean at 0x11bcb57b8>) requires loading the entire cube into memory and may therefore be slow. [spectral_cube.utils]\n",
      "WARNING: ExperimentalImplementationWarning: Support for air wavelengths is experimental and only works in the forward direction (air->vac, not vac->air). [spectral_cube.spectral_axis]\n",
      "WARNING: VarianceWarning: Note that the second moment returned will be a variance map. To get a linewidth map, use the SpectralCube.linewidth_fwhm() or SpectralCube.linewidth_sigma() methods instead. [spectral_cube.spectral_cube]\n",
      "/usr/local/lib/python3.7/site-packages/spectral_cube/_moments.py:169: RuntimeWarning: invalid value encountered in true_divide\n",
      "  np.nansum(data, axis=axis))\n",
      "/usr/local/lib/python3.7/site-packages/spectral_cube/_moments.py:179: RuntimeWarning: invalid value encountered in true_divide\n",
      "  np.nansum(data, axis=axis))\n",
      "/usr/local/lib/python3.7/site-packages/astropy/units/quantity.py:464: RuntimeWarning: invalid value encountered in power\n",
      "  result = super().__array_ufunc__(function, method, *arrays, **kwargs)\n",
      "WARNING: PossiblySlowWarning: This function (<function BaseSpectralCube.mean at 0x11bcb57b8>) requires loading the entire cube into memory and may therefore be slow. [spectral_cube.utils]\n",
      "WARNING: PossiblySlowWarning: This function (<function BaseSpectralCube.mean at 0x11bcb57b8>) requires loading the entire cube into memory and may therefore be slow. [spectral_cube.utils]\n",
      "WARNING: PossiblySlowWarning: This function (<function BaseSpectralCube.mean at 0x11bcb57b8>) requires loading the entire cube into memory and may therefore be slow. [spectral_cube.utils]\n",
      "WARNING: ExperimentalImplementationWarning: Support for air wavelengths is experimental and only works in the forward direction (air->vac, not vac->air). [spectral_cube.spectral_axis]\n",
      "/usr/local/lib/python3.7/site-packages/spectral_cube/_moments.py:169: RuntimeWarning: invalid value encountered in true_divide\n",
      "  np.nansum(data, axis=axis))\n",
      "WARNING: PossiblySlowWarning: This function (<function BaseSpectralCube.mean at 0x11bcb57b8>) requires loading the entire cube into memory and may therefore be slow. [spectral_cube.utils]\n",
      "WARNING: ExperimentalImplementationWarning: Support for air wavelengths is experimental and only works in the forward direction (air->vac, not vac->air). [spectral_cube.spectral_axis]\n",
      "WARNING: VarianceWarning: Note that the second moment returned will be a variance map. To get a linewidth map, use the SpectralCube.linewidth_fwhm() or SpectralCube.linewidth_sigma() methods instead. [spectral_cube.spectral_cube]\n",
      "/usr/local/lib/python3.7/site-packages/spectral_cube/_moments.py:169: RuntimeWarning: invalid value encountered in true_divide\n",
      "  np.nansum(data, axis=axis))\n",
      "/usr/local/lib/python3.7/site-packages/spectral_cube/_moments.py:179: RuntimeWarning: invalid value encountered in true_divide\n",
      "  np.nansum(data, axis=axis))\n",
      "/usr/local/lib/python3.7/site-packages/astropy/units/quantity.py:464: RuntimeWarning: invalid value encountered in power\n",
      "  result = super().__array_ufunc__(function, method, *arrays, **kwargs)\n"
     ]
    }
   ],
   "source": [
    "from Map import lyoptimalcube,lysnrmap,lyvelocitymap,lydispersionmap,lyemissioncube,\\\n",
    "    heiioptimalcube,heiisnrmap,heiivelocitymap,heiidispersionmap,heiiemissioncube,\\\n",
    "    civoptimalcube,civsnrmap,civvelocitymap,civdispersionmap,civemissioncube"
   ]
  },
  {
   "cell_type": "code",
   "execution_count": null,
   "metadata": {},
   "outputs": [],
   "source": [
    "lysnrmap.sh"
   ]
  }
 ],
 "metadata": {
  "kernelspec": {
   "display_name": "Python 3",
   "language": "python",
   "name": "python3"
  },
  "language_info": {
   "codemirror_mode": {
    "name": "ipython",
    "version": 3
   },
   "file_extension": ".py",
   "mimetype": "text/x-python",
   "name": "python",
   "nbconvert_exporter": "python",
   "pygments_lexer": "ipython3",
   "version": "3.7.0"
  }
 },
 "nbformat": 4,
 "nbformat_minor": 2
}
