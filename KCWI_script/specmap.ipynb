{
 "cells": [
  {
   "cell_type": "code",
   "execution_count": 9,
   "metadata": {},
   "outputs": [],
   "source": [
    "import numpy as np\n",
    "import matplotlib.pyplot as plt\n",
    "from astropy import units as u\n",
    "from spectral_cube import SpectralCube\n",
    "from Class_func import Cube"
   ]
  },
  {
   "cell_type": "code",
   "execution_count": 10,
   "metadata": {},
   "outputs": [
    {
     "name": "stderr",
     "output_type": "stream",
     "text": [
      "WARNING: VerifyWarning: Invalid 'BLANK' keyword in header.  The 'BLANK' keyword is only applicable to integer data, and will be ignored in this HDU. [astropy.io.fits.hdu.image]\n",
      "WARNING: Could not parse unit FLAM16 [spectral_cube.cube_utils]\n"
     ]
    }
   ],
   "source": [
    "sscubename='/Users/shiwuzhang/WS/ASTRO/MAMMOTH_KCWI/1441+4003_comb_ss_icubes.fits'\n",
    "refpoint=np.array([220.3520886,40.05269183])*u.deg\n",
    "sscube=Cube.read(sscubename,refpoint=refpoint)"
   ]
  },
  {
   "cell_type": "code",
   "execution_count": 11,
   "metadata": {},
   "outputs": [],
   "source": [
    "ly_dataedge={'xlo':2,'xhi':22,'ylo':4,'yhi':65,'zlo':4000*u.AA,'zhi':4050*u.AA}\n",
    "speccube=sscube.subcube(**ly_dataedge,refpoint=refpoint)\n"
   ]
  },
  {
   "cell_type": "code",
   "execution_count": 12,
   "metadata": {},
   "outputs": [],
   "source": [
    "speccube.ra=speccube.ra.to(u.arcsec)\n",
    "speccube.dec=speccube.dec.to(u.arcsec)\n",
    "RA,DEC=np.meshgrid(speccube.dec.value,speccube.ra.value)"
   ]
  },
  {
   "cell_type": "code",
   "execution_count": 13,
   "metadata": {},
   "outputs": [],
   "source": [
    "spectral_ap=[]\n",
    "ra_ap,dec_ap=[],[]\n",
    "for i in np.arange(10,speccube.ra.shape[0]-10,10):\n",
    "    for j in np.arange(3,speccube.dec.shape[0]-3,3):\n",
    "        rmap=np.sqrt(np.power(DEC-speccube.ra[i].value,2)+np.power(RA-speccube.dec[j].value,2))\n",
    "        boolmap=(rmap<=2)\n",
    "        spectral=speccube.hdu.data[:,boolmap].sum(axis=1)\n",
    "        spectral_ap.append(spectral/np.max(spectral))\n",
    "        ra_ap.append(speccube.ra[i].value)\n",
    "        dec_ap.append(speccube.dec[j].value)"
   ]
  },
  {
   "cell_type": "code",
   "execution_count": 14,
   "metadata": {},
   "outputs": [],
   "source": [
    "dec_ap=np.array(dec_ap)\n",
    "ra_ap=np.array(ra_ap)\n",
    "spectral_ap=np.array(spectral_ap)"
   ]
  },
  {
   "cell_type": "code",
   "execution_count": 15,
   "metadata": {},
   "outputs": [
    {
     "name": "stderr",
     "output_type": "stream",
     "text": [
      "WARNING: ExperimentalImplementationWarning: Support for air wavelengths is experimental and only works in the forward direction (air->vac, not vac->air). [spectral_cube.spectral_axis]\n"
     ]
    }
   ],
   "source": [
    "wavecube=speccube.with_spectral_unit(u.km/u.s,velocity_convention='relativistic',rest_value=3.31*1215.67*u.AA)\n",
    "spectral_axis=wavecube.spectral_axis.value"
   ]
  },
  {
   "cell_type": "code",
   "execution_count": 16,
   "metadata": {},
   "outputs": [],
   "source": [
    "dic='/Users/shiwuzhang/WS/ASTRO/MAMMOTH_KCWI/analysis results/newresults/specmap/'\n",
    "np.savetxt(dic+'spec_ap.out',spectral_ap,delimiter=',')\n",
    "np.savetxt(dic+'ra_ap.out',ra_ap,delimiter=',')\n",
    "np.savetxt(dic+'dec_ap.out',dec_ap,delimiter=',')\n",
    "np.savetxt(dic+'spec_axis.out',spectral_axis,delimiter=',')"
   ]
  }
 ],
 "metadata": {
  "kernelspec": {
   "display_name": "Python 3",
   "language": "python",
   "name": "python3"
  },
  "language_info": {
   "codemirror_mode": {
    "name": "ipython",
    "version": 3
   },
   "file_extension": ".py",
   "mimetype": "text/x-python",
   "name": "python",
   "nbconvert_exporter": "python",
   "pygments_lexer": "ipython3",
   "version": "3.7.0"
  }
 },
 "nbformat": 4,
 "nbformat_minor": 2
}
