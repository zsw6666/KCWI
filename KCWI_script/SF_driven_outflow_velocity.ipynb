{
 "cells": [
  {
   "cell_type": "code",
   "execution_count": 2,
   "metadata": {},
   "outputs": [],
   "source": [
    "import numpy as np\n",
    "import astropy.units as u\n",
    "import matplotlib.pyplot as plt\n",
    "from matplotlib import rcParams\n",
    "\n",
    "#set the default plot parameter\n",
    "plt_param={'font.family':'serif',\n",
    "           'font.serif':'Times New Roman',\n",
    "           'lines.linewidth':1,\n",
    "           'xtick.labelsize':12,\n",
    "           'ytick.labelsize':12,\n",
    "           'axes.labelsize':16,\n",
    "           'xtick.direction':'in',\n",
    "           'ytick.direction':'in',\n",
    "           'font.style':'italic',\n",
    "           'font.weight':'normal',\n",
    "           'figure.figsize':[5,5],'xtick.minor.visible':True,\n",
    "           'ytick.minor.visible':True,\n",
    "           'xtick.major.size':4,\n",
    "           'ytick.major.size':4,\n",
    "           'xtick.minor.size':2,\n",
    "           'ytick.minor.size':2,\n",
    "           'xtick.major.width':.8,\n",
    "           'ytick.major.width':.8,\n",
    "           'xtick.top':True,\n",
    "           'ytick.right':True,\n",
    "           'axes.spines.bottom':True,\n",
    "           'axes.spines.top':True,\n",
    "           'axes.spines.left':True,\n",
    "           'axes.spines.right':True,\n",
    "           'xtick.bottom':True,\n",
    "           'xtick.labelbottom':True,\n",
    "           'ytick.left':True,\n",
    "           'ytick.labelleft':True}\n",
    "rcParams.update(plt_param)"
   ]
  },
  {
   "cell_type": "code",
   "execution_count": 37,
   "metadata": {},
   "outputs": [],
   "source": [
    "dic='/Users/shiwuzhang/WS/ASTRO/MAMMOTH_KCWI/analysis results/'\n",
    "v_simulation=np.genfromtxt(dic+'sf_outflow_velocity_simulation.txt',delimiter=',')\n",
    "v_observation=np.genfromtxt(dic+'sf_outflow_vlocity_observations.txt')\n",
    "\n",
    "#convert log space to real space\n",
    "# v_observation[:,0]=10**v_observation[:,0]\n",
    "# v_observation[:,1]=10**v_observation[:,1]\n",
    "\n",
    "v_simulation[:,0]=np.pi*(16.20388366**2)*v_simulation[:,0]\n",
    "\n",
    "#convert real space to log space\n",
    "v_simulation[:,0]=np.log10(v_simulation[:,0])\n",
    "v_simulation[:,1]=np.log10(v_simulation[:,1])\n",
    "\n",
    "v_our=np.array([400, 2300])\n",
    "v_our=np.log10(v_our)"
   ]
  },
  {
   "cell_type": "code",
   "execution_count": 39,
   "metadata": {},
   "outputs": [],
   "source": [
    "#powerlaw fit function\n",
    "sfr_log=np.linspace(-2,3,1000)\n",
    "v_log=0.3232*sfr_log+2.3649"
   ]
  },
  {
   "cell_type": "code",
   "execution_count": null,
   "metadata": {},
   "outputs": [],
   "source": [
    "fig,ax=plt.subplots(1,1)\n",
    "\n",
    "ax.scatter(v_observation[:,0],v_observation[:,1],\n",
    "           color='royalblue',marker='^',label='Heckman et. al 2016')\n",
    "ax.scatter(v_simulation[:,0],v_simulation[:,1],\n",
    "           color='green',marker='o',label='Li et. al 2019')\n",
    "\n",
    "ax.scatter(v_our[0],v_our[1],color='red',marker='*',s=200,label='Our simulation')\n",
    "\n",
    "ax.plot(sfr_log,v_log,ls='dashed',color='gray',label='Heckman et. al 2016')\n",
    "ax.set_xlabel(r'Log (SFR [ $M_{\\rm \\odot}$ yr$^{-1}$] )')\n",
    "ax.set_ylabel(r'Log ( $v_{\\rm out}$ [ km s$^{-1}$] )')\n",
    "\n",
    "plt.legend()\n",
    "# plt.show()\n",
    "savedic='/Users/shiwuzhang/WS/ASTRO/MAMMOTH_KCWI/draft_code/paper/ApJtemplate/figs/'\n",
    "plt.savefig(savedic+'V_vs_SFR.png',dpi=300)"
   ]
  },
  {
   "cell_type": "code",
   "execution_count": null,
   "metadata": {},
   "outputs": [],
   "source": []
  }
 ],
 "metadata": {
  "kernelspec": {
   "display_name": "Python 3",
   "language": "python",
   "name": "python3"
  },
  "language_info": {
   "codemirror_mode": {
    "name": "ipython",
    "version": 3
   },
   "file_extension": ".py",
   "mimetype": "text/x-python",
   "name": "python",
   "nbconvert_exporter": "python",
   "pygments_lexer": "ipython3",
   "version": "3.7.0"
  }
 },
 "nbformat": 4,
 "nbformat_minor": 2
}
