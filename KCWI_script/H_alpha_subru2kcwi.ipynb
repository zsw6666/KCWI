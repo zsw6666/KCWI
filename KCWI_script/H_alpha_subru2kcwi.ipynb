{
 "cells": [
  {
   "cell_type": "code",
   "execution_count": 1,
   "metadata": {},
   "outputs": [],
   "source": [
    "import numpy as np\n",
    "import matplotlib.pyplot as plt\n",
    "import astropy.units as u\n",
    "import astropy.constants as const\n",
    "from astropy.convolution import Gaussian2DKernel,convolve\n",
    "from astropy.io import fits\n",
    "from scipy.ndimage import zoom"
   ]
  },
  {
   "cell_type": "code",
   "execution_count": 2,
   "metadata": {},
   "outputs": [],
   "source": [
    "def count2flux(img_count,replacer=1e-10,mag_const=24.37,\n",
    "               lamda=6563,delta_lamda=250,z=2.3):\n",
    "    '''\n",
    "    convert counts map to flux map.\n",
    "    lamda and delta_lamda in unit of \\AA\n",
    "    '''\n",
    "    #replace negtive value with positive\n",
    "    img_count[img_count<=0]=replacer\n",
    "    \n",
    "    mag=-2.5*np.log10(img_count)+mag_const\n",
    "    flux_nu=10**(-(mag+48.6)/2.5)\n",
    "    flux_lamda=flux_nu*const.c.to(u.AA/u.second).value/((lamda*(1+z))**2)\n",
    "    flux=flux_lamda*delta_lamda*u.erg/(u.second*(u.cm**2))\n",
    "    \n",
    "    return flux\n",
    "\n",
    "def pix2world(shape,delta,origin_pix,origin_world):\n",
    "    '''\n",
    "    convert pixel coordinate to\n",
    "    ra,dec, origin_pix and origin_world\n",
    "    is the coordinate of origin in \n",
    "    different frame. They are both 1-d\n",
    "    array with two elements\n",
    "    return two 1-d arrays of ra and \n",
    "    dec respectively\n",
    "    '''\n",
    "    \n",
    "    x,y=np.arange(shape[1]),np.arange(shape[0])\n",
    "    X,Y=np.meshgrid(x,y)\n",
    "    ra_map=(origin_pix[0]-X)*delta[0]+origin_world[0]\n",
    "    dec_map=(origin_pix[1]-Y)*delta[1]+origin_world[1]\n",
    "    \n",
    "    return ra_map.mean(axis=0), dec_map.mean(axis=1)\n",
    "\n",
    "def img_fix(img,dec,ra,slopes,offsets):\n",
    "    '''\n",
    "    set the value of region ignored to be zero\n",
    "    '''\n",
    "    img_fixed=img.copy()\n",
    "    ra_grid,dec_grid=np.meshgrid(ra,dec)\n",
    "    mask1=~(slopes[0]*ra_grid+offsets[0]>=dec_grid)\n",
    "    mask2=~(slopes[0]*ra_grid+offsets[1]<=dec_grid)\n",
    "    \n",
    "    mask3=~(slopes[1]*ra_grid+offsets[2]>=dec_grid)\n",
    "    mask4=~(slopes[1]*ra_grid+offsets[3]<=dec_grid)\n",
    "    img_fixed[mask1|mask2|mask3|mask4]=0\n",
    "    \n",
    "    return img_fixed"
   ]
  },
  {
   "cell_type": "code",
   "execution_count": 3,
   "metadata": {},
   "outputs": [],
   "source": [
    "dic='/Users/shiwuzhang/WS/ASTRO/MAMMOTH_KCWI/results/'\n",
    "h_fits=fits.open(dic+'MORICS_geotran_cut.fits')"
   ]
  },
  {
   "cell_type": "code",
   "execution_count": 4,
   "metadata": {},
   "outputs": [],
   "source": [
    "H_flux=count2flux(h_fits[0].data).value"
   ]
  },
  {
   "cell_type": "code",
   "execution_count": 5,
   "metadata": {},
   "outputs": [],
   "source": [
    "delta=[7.107805249e-05,7.199198278e-05]\n",
    "origin_pix=[145,141]\n",
    "origin_world=[220.352093,40.0526795]\n",
    "ra,dec=pix2world(H_flux.shape,delta,origin_pix,origin_world)\n",
    "delta_ra=(ra-origin_world[0])*u.deg.to(u.arcsecond)\n",
    "delta_dec=(dec-origin_world[1])*u.deg.to(u.arcsecond)"
   ]
  },
  {
   "cell_type": "markdown",
   "metadata": {},
   "source": [
    "### sum subru image to fit kcwi image"
   ]
  },
  {
   "cell_type": "code",
   "execution_count": 6,
   "metadata": {},
   "outputs": [],
   "source": [
    "img_fixed=img_fix(H_flux,delta_dec,delta_ra,[0.28,-1/0.28],[30,-30,100,-100])\n",
    "img_fixed=img_fixed[70:-70,70:-70]\n",
    "delta_ra=delta_ra[70:-70]\n",
    "delta_dec=delta_dec[70:-70]"
   ]
  },
  {
   "cell_type": "code",
   "execution_count": 7,
   "metadata": {},
   "outputs": [
    {
     "data": {
      "text/latex": [
       "$7.1065225 \\times 10^{43} \\; \\mathrm{\\frac{erg}{s}}$"
      ],
      "text/plain": [
       "<Quantity 7.10652245e+43 erg / s>"
      ]
     },
     "execution_count": 7,
     "metadata": {},
     "output_type": "execute_result"
    }
   ],
   "source": [
    "H_f=img_fixed.copy()[60:110,50:100].sum()*u.erg/(u.s*(u.cm**2))\n",
    "D=18528.4*u.Mpc\n",
    "L_h=(H_f*4*np.pi*D**2).to(u.erg/u.s)\n",
    "L_h"
   ]
  },
  {
   "cell_type": "code",
   "execution_count": 8,
   "metadata": {},
   "outputs": [],
   "source": [
    "img_new=np.add.reduceat(img_fixed,range(0,len(delta_ra),6),axis=0)\n",
    "delta_dec=np.add.reduceat(delta_dec,range(0,len(delta_dec),6))/6\n",
    "delta_dec[-1]=delta_dec[-2]+-1.55502683\n",
    "delta_dec-=2.7\n",
    "delta_ra-=0.5"
   ]
  },
  {
   "cell_type": "markdown",
   "metadata": {},
   "source": [
    "### interpolate and smooth"
   ]
  },
  {
   "cell_type": "code",
   "execution_count": 9,
   "metadata": {},
   "outputs": [],
   "source": [
    "img_inter=zoom(img_new,[20,3])\n",
    "delta_dec_inter=zoom(delta_dec,20)\n",
    "delta_ra_inter=zoom(delta_ra,3)"
   ]
  },
  {
   "cell_type": "code",
   "execution_count": 10,
   "metadata": {},
   "outputs": [],
   "source": [
    "kernel=Gaussian2DKernel(x_stddev=3,y_stddev=3,x_size=9,y_size=9)\n",
    "img_smooth=convolve(img_inter,kernel)"
   ]
  },
  {
   "cell_type": "markdown",
   "metadata": {},
   "source": [
    "### background estimation"
   ]
  },
  {
   "cell_type": "code",
   "execution_count": 11,
   "metadata": {},
   "outputs": [
    {
     "name": "stdout",
     "output_type": "stream",
     "text": [
      "background = 1.1877882e-18\n"
     ]
    }
   ],
   "source": [
    "print('background = '+str(img_smooth[:200,:200].std()))"
   ]
  },
  {
   "cell_type": "markdown",
   "metadata": {},
   "source": [
    "### extract the emission"
   ]
  },
  {
   "cell_type": "code",
   "execution_count": 12,
   "metadata": {},
   "outputs": [],
   "source": [
    "noise=img_smooth[:200,:200].std()\n",
    "snr_img=img_smooth/noise\n",
    "img_smooth[snr_img<3]=0\n",
    "\n",
    "#cut image\n",
    "mask=np.zeros_like(snr_img)\n",
    "mask=mask.astype(np.bool)\n",
    "mask[150:360,171:282]=np.True_\n",
    "img_smooth[~mask]=0\n",
    "img_smooth[150:200,150:220]=0\n",
    "img_smooth[320:400,240:300]=0\n",
    "img_smooth[150:220,250:300]=0"
   ]
  },
  {
   "cell_type": "code",
   "execution_count": 14,
   "metadata": {},
   "outputs": [],
   "source": [
    "savdic='/Users/shiwuzhang/WS/ASTRO/MAMMOTH_KCWI/'\n",
    "np.savetxt(savdic+'H-alpha_intensity.txt',img_smooth)\n",
    "np.savetxt(savdic+'H-alpha_ra.txt',delta_ra_inter)\n",
    "np.savetxt(savdic+'H-alpha_dec.txt',delta_dec_inter)\n",
    "np.savetxt(savdic+'H-alpha_snr.txt',snr_img)"
   ]
  }
 ],
 "metadata": {
  "kernelspec": {
   "display_name": "Python 3",
   "language": "python",
   "name": "python3"
  },
  "language_info": {
   "codemirror_mode": {
    "name": "ipython",
    "version": 3
   },
   "file_extension": ".py",
   "mimetype": "text/x-python",
   "name": "python",
   "nbconvert_exporter": "python",
   "pygments_lexer": "ipython3",
   "version": "3.7.0"
  }
 },
 "nbformat": 4,
 "nbformat_minor": 2
}
